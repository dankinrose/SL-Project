{
 "cells": [
  {
   "cell_type": "markdown",
   "id": "bc69acbf-4c23-4ec5-919c-211b969e576f",
   "metadata": {},
   "source": [
    "<h1 align=\"center\">SLRegProject</h1>"
   ]
  },
  {
   "cell_type": "code",
   "execution_count": 106,
   "id": "b2ea49af-d6db-4c30-9901-b9b9dc970f8c",
   "metadata": {},
   "outputs": [],
   "source": [
    "import numpy as np\n",
    "import pandas as pd\n",
    "import matplotlib.pyplot as plt\n",
    "import seaborn as sns\n",
    "import sklearn\n",
    "import scipy"
   ]
  },
  {
   "cell_type": "markdown",
   "id": "f7052818-efc6-41c6-b146-60d43f25c807",
   "metadata": {},
   "source": [
    "## Data Preparation:"
   ]
  },
  {
   "cell_type": "code",
   "execution_count": 107,
   "id": "b6550e4f-1f9e-4099-af27-5ba5813bda17",
   "metadata": {},
   "outputs": [],
   "source": [
    "covid_df = pd.read_csv(r\"C:\\Users\\danir\\Desktop\\קורס AI\\פתרונות שב ומטלות\\SL\\exam\\Covid19_With_GDP_Values.csv\")"
   ]
  },
  {
   "cell_type": "code",
   "execution_count": 108,
   "id": "4a7cf6fb-8263-4b77-8f72-b148414672a6",
   "metadata": {
    "scrolled": true
   },
   "outputs": [
    {
     "data": {
      "text/html": [
       "<div>\n",
       "<style scoped>\n",
       "    .dataframe tbody tr th:only-of-type {\n",
       "        vertical-align: middle;\n",
       "    }\n",
       "\n",
       "    .dataframe tbody tr th {\n",
       "        vertical-align: top;\n",
       "    }\n",
       "\n",
       "    .dataframe thead th {\n",
       "        text-align: right;\n",
       "    }\n",
       "</style>\n",
       "<table border=\"1\" class=\"dataframe\">\n",
       "  <thead>\n",
       "    <tr style=\"text-align: right;\">\n",
       "      <th></th>\n",
       "      <th>Unnamed: 0</th>\n",
       "      <th>Country/Region</th>\n",
       "      <th>Date</th>\n",
       "      <th>Province/State</th>\n",
       "      <th>Confirmed</th>\n",
       "      <th>Deaths</th>\n",
       "      <th>Recovered</th>\n",
       "      <th>GDP</th>\n",
       "      <th>Unemployment</th>\n",
       "      <th>CPI</th>\n",
       "    </tr>\n",
       "  </thead>\n",
       "  <tbody>\n",
       "    <tr>\n",
       "      <th>0</th>\n",
       "      <td>0</td>\n",
       "      <td>Afghanistan</td>\n",
       "      <td>2021-01-01</td>\n",
       "      <td>0</td>\n",
       "      <td>52513.0</td>\n",
       "      <td>2201.0</td>\n",
       "      <td>41727.0</td>\n",
       "      <td>1.426650e+10</td>\n",
       "      <td>11.934</td>\n",
       "      <td>NaN</td>\n",
       "    </tr>\n",
       "    <tr>\n",
       "      <th>1</th>\n",
       "      <td>1</td>\n",
       "      <td>Afghanistan</td>\n",
       "      <td>2022-01-01</td>\n",
       "      <td>0</td>\n",
       "      <td>158107.0</td>\n",
       "      <td>7356.0</td>\n",
       "      <td>0.0</td>\n",
       "      <td>1.450216e+10</td>\n",
       "      <td>14.100</td>\n",
       "      <td>NaN</td>\n",
       "    </tr>\n",
       "    <tr>\n",
       "      <th>2</th>\n",
       "      <td>2</td>\n",
       "      <td>Albania</td>\n",
       "      <td>2021-01-01</td>\n",
       "      <td>0</td>\n",
       "      <td>58316.0</td>\n",
       "      <td>1181.0</td>\n",
       "      <td>33634.0</td>\n",
       "      <td>1.793057e+10</td>\n",
       "      <td>12.473</td>\n",
       "      <td>123.448662</td>\n",
       "    </tr>\n",
       "    <tr>\n",
       "      <th>3</th>\n",
       "      <td>3</td>\n",
       "      <td>Albania</td>\n",
       "      <td>2022-01-01</td>\n",
       "      <td>0</td>\n",
       "      <td>210224.0</td>\n",
       "      <td>3217.0</td>\n",
       "      <td>0.0</td>\n",
       "      <td>1.891638e+10</td>\n",
       "      <td>11.588</td>\n",
       "      <td>131.750835</td>\n",
       "    </tr>\n",
       "    <tr>\n",
       "      <th>4</th>\n",
       "      <td>4</td>\n",
       "      <td>Algeria</td>\n",
       "      <td>2021-01-01</td>\n",
       "      <td>0</td>\n",
       "      <td>99897.0</td>\n",
       "      <td>2762.0</td>\n",
       "      <td>67395.0</td>\n",
       "      <td>1.862654e+11</td>\n",
       "      <td>13.607</td>\n",
       "      <td>166.218895</td>\n",
       "    </tr>\n",
       "    <tr>\n",
       "      <th>...</th>\n",
       "      <td>...</td>\n",
       "      <td>...</td>\n",
       "      <td>...</td>\n",
       "      <td>...</td>\n",
       "      <td>...</td>\n",
       "      <td>...</td>\n",
       "      <td>...</td>\n",
       "      <td>...</td>\n",
       "      <td>...</td>\n",
       "      <td>...</td>\n",
       "    </tr>\n",
       "    <tr>\n",
       "      <th>335</th>\n",
       "      <td>335</td>\n",
       "      <td>West Bank and Gaza</td>\n",
       "      <td>2022-01-01</td>\n",
       "      <td>0</td>\n",
       "      <td>469748.0</td>\n",
       "      <td>4919.0</td>\n",
       "      <td>0.0</td>\n",
       "      <td>1.916550e+10</td>\n",
       "      <td>24.420</td>\n",
       "      <td>117.301113</td>\n",
       "    </tr>\n",
       "    <tr>\n",
       "      <th>336</th>\n",
       "      <td>336</td>\n",
       "      <td>Zambia</td>\n",
       "      <td>2021-01-01</td>\n",
       "      <td>0</td>\n",
       "      <td>20997.0</td>\n",
       "      <td>390.0</td>\n",
       "      <td>18773.0</td>\n",
       "      <td>2.209642e+10</td>\n",
       "      <td>5.195</td>\n",
       "      <td>299.818966</td>\n",
       "    </tr>\n",
       "    <tr>\n",
       "      <th>337</th>\n",
       "      <td>337</td>\n",
       "      <td>Zambia</td>\n",
       "      <td>2022-01-01</td>\n",
       "      <td>0</td>\n",
       "      <td>257948.0</td>\n",
       "      <td>3740.0</td>\n",
       "      <td>0.0</td>\n",
       "      <td>2.916378e+10</td>\n",
       "      <td>5.993</td>\n",
       "      <td>332.778677</td>\n",
       "    </tr>\n",
       "    <tr>\n",
       "      <th>338</th>\n",
       "      <td>338</td>\n",
       "      <td>Zimbabwe</td>\n",
       "      <td>2021-01-01</td>\n",
       "      <td>0</td>\n",
       "      <td>14084.0</td>\n",
       "      <td>369.0</td>\n",
       "      <td>11347.0</td>\n",
       "      <td>2.837124e+10</td>\n",
       "      <td>9.540</td>\n",
       "      <td>5411.002445</td>\n",
       "    </tr>\n",
       "    <tr>\n",
       "      <th>339</th>\n",
       "      <td>339</td>\n",
       "      <td>Zimbabwe</td>\n",
       "      <td>2022-01-01</td>\n",
       "      <td>0</td>\n",
       "      <td>214214.0</td>\n",
       "      <td>5017.0</td>\n",
       "      <td>0.0</td>\n",
       "      <td>2.736663e+10</td>\n",
       "      <td>10.087</td>\n",
       "      <td>11076.601788</td>\n",
       "    </tr>\n",
       "  </tbody>\n",
       "</table>\n",
       "<p>340 rows × 10 columns</p>\n",
       "</div>"
      ],
      "text/plain": [
       "     Unnamed: 0      Country/Region        Date Province/State  Confirmed  \\\n",
       "0             0         Afghanistan  2021-01-01              0    52513.0   \n",
       "1             1         Afghanistan  2022-01-01              0   158107.0   \n",
       "2             2             Albania  2021-01-01              0    58316.0   \n",
       "3             3             Albania  2022-01-01              0   210224.0   \n",
       "4             4             Algeria  2021-01-01              0    99897.0   \n",
       "..          ...                 ...         ...            ...        ...   \n",
       "335         335  West Bank and Gaza  2022-01-01              0   469748.0   \n",
       "336         336              Zambia  2021-01-01              0    20997.0   \n",
       "337         337              Zambia  2022-01-01              0   257948.0   \n",
       "338         338            Zimbabwe  2021-01-01              0    14084.0   \n",
       "339         339            Zimbabwe  2022-01-01              0   214214.0   \n",
       "\n",
       "     Deaths  Recovered           GDP  Unemployment           CPI  \n",
       "0    2201.0    41727.0  1.426650e+10        11.934           NaN  \n",
       "1    7356.0        0.0  1.450216e+10        14.100           NaN  \n",
       "2    1181.0    33634.0  1.793057e+10        12.473    123.448662  \n",
       "3    3217.0        0.0  1.891638e+10        11.588    131.750835  \n",
       "4    2762.0    67395.0  1.862654e+11        13.607    166.218895  \n",
       "..      ...        ...           ...           ...           ...  \n",
       "335  4919.0        0.0  1.916550e+10        24.420    117.301113  \n",
       "336   390.0    18773.0  2.209642e+10         5.195    299.818966  \n",
       "337  3740.0        0.0  2.916378e+10         5.993    332.778677  \n",
       "338   369.0    11347.0  2.837124e+10         9.540   5411.002445  \n",
       "339  5017.0        0.0  2.736663e+10        10.087  11076.601788  \n",
       "\n",
       "[340 rows x 10 columns]"
      ]
     },
     "execution_count": 108,
     "metadata": {},
     "output_type": "execute_result"
    }
   ],
   "source": [
    "covid_df_copy = covid_df.copy()\n",
    "covid_df_copy"
   ]
  },
  {
   "cell_type": "markdown",
   "id": "fa9e799d-3c27-440c-94d7-f4a4f5920d5a",
   "metadata": {},
   "source": [
    "***part 1 - Remove unknown columns:***"
   ]
  },
  {
   "cell_type": "code",
   "execution_count": 109,
   "id": "cb1b8e34-604b-41ae-9c59-d48316761b51",
   "metadata": {},
   "outputs": [
    {
     "name": "stdout",
     "output_type": "stream",
     "text": [
      "<class 'pandas.core.frame.DataFrame'>\n",
      "RangeIndex: 340 entries, 0 to 339\n",
      "Data columns (total 10 columns):\n",
      " #   Column          Non-Null Count  Dtype  \n",
      "---  ------          --------------  -----  \n",
      " 0   Unnamed: 0      340 non-null    int64  \n",
      " 1   Country/Region  340 non-null    object \n",
      " 2   Date            340 non-null    object \n",
      " 3   Province/State  340 non-null    object \n",
      " 4   Confirmed       340 non-null    float64\n",
      " 5   Deaths          340 non-null    float64\n",
      " 6   Recovered       340 non-null    float64\n",
      " 7   GDP             340 non-null    float64\n",
      " 8   Unemployment    340 non-null    float64\n",
      " 9   CPI             338 non-null    float64\n",
      "dtypes: float64(6), int64(1), object(3)\n",
      "memory usage: 26.7+ KB\n"
     ]
    }
   ],
   "source": [
    "covid_df_copy.info()"
   ]
  },
  {
   "cell_type": "code",
   "execution_count": 110,
   "id": "3139ef71-91b8-4f79-9571-4a76dd95f3af",
   "metadata": {},
   "outputs": [
    {
     "name": "stdout",
     "output_type": "stream",
     "text": [
      "Unnamed: 0          0\n",
      "Country/Region      0\n",
      "Date                0\n",
      "Province/State    324\n",
      "Confirmed           0\n",
      "Deaths              0\n",
      "Recovered           0\n",
      "GDP                 0\n",
      "Unemployment        0\n",
      "CPI                 0\n",
      "dtype: int64\n"
     ]
    }
   ],
   "source": [
    "covid_df_copy[\"Province/State\"].astype(str).str.strip(); print((covid_df_copy.isin([\"0\",\"0.0\"])).sum())"
   ]
  },
  {
   "cell_type": "code",
   "execution_count": 111,
   "id": "5848384a-2aa5-4ea0-a73a-fd37960870ff",
   "metadata": {},
   "outputs": [
    {
     "data": {
      "text/html": [
       "<div>\n",
       "<style scoped>\n",
       "    .dataframe tbody tr th:only-of-type {\n",
       "        vertical-align: middle;\n",
       "    }\n",
       "\n",
       "    .dataframe tbody tr th {\n",
       "        vertical-align: top;\n",
       "    }\n",
       "\n",
       "    .dataframe thead th {\n",
       "        text-align: right;\n",
       "    }\n",
       "</style>\n",
       "<table border=\"1\" class=\"dataframe\">\n",
       "  <thead>\n",
       "    <tr style=\"text-align: right;\">\n",
       "      <th></th>\n",
       "      <th>Country/Region</th>\n",
       "      <th>Date</th>\n",
       "      <th>Confirmed</th>\n",
       "      <th>Deaths</th>\n",
       "      <th>Recovered</th>\n",
       "      <th>GDP</th>\n",
       "      <th>Unemployment</th>\n",
       "      <th>CPI</th>\n",
       "    </tr>\n",
       "  </thead>\n",
       "  <tbody>\n",
       "    <tr>\n",
       "      <th>0</th>\n",
       "      <td>Afghanistan</td>\n",
       "      <td>2021-01-01</td>\n",
       "      <td>52513.0</td>\n",
       "      <td>2201.0</td>\n",
       "      <td>41727.0</td>\n",
       "      <td>1.426650e+10</td>\n",
       "      <td>11.934</td>\n",
       "      <td>NaN</td>\n",
       "    </tr>\n",
       "    <tr>\n",
       "      <th>1</th>\n",
       "      <td>Afghanistan</td>\n",
       "      <td>2022-01-01</td>\n",
       "      <td>158107.0</td>\n",
       "      <td>7356.0</td>\n",
       "      <td>0.0</td>\n",
       "      <td>1.450216e+10</td>\n",
       "      <td>14.100</td>\n",
       "      <td>NaN</td>\n",
       "    </tr>\n",
       "    <tr>\n",
       "      <th>2</th>\n",
       "      <td>Albania</td>\n",
       "      <td>2021-01-01</td>\n",
       "      <td>58316.0</td>\n",
       "      <td>1181.0</td>\n",
       "      <td>33634.0</td>\n",
       "      <td>1.793057e+10</td>\n",
       "      <td>12.473</td>\n",
       "      <td>123.448662</td>\n",
       "    </tr>\n",
       "    <tr>\n",
       "      <th>3</th>\n",
       "      <td>Albania</td>\n",
       "      <td>2022-01-01</td>\n",
       "      <td>210224.0</td>\n",
       "      <td>3217.0</td>\n",
       "      <td>0.0</td>\n",
       "      <td>1.891638e+10</td>\n",
       "      <td>11.588</td>\n",
       "      <td>131.750835</td>\n",
       "    </tr>\n",
       "    <tr>\n",
       "      <th>4</th>\n",
       "      <td>Algeria</td>\n",
       "      <td>2021-01-01</td>\n",
       "      <td>99897.0</td>\n",
       "      <td>2762.0</td>\n",
       "      <td>67395.0</td>\n",
       "      <td>1.862654e+11</td>\n",
       "      <td>13.607</td>\n",
       "      <td>166.218895</td>\n",
       "    </tr>\n",
       "    <tr>\n",
       "      <th>...</th>\n",
       "      <td>...</td>\n",
       "      <td>...</td>\n",
       "      <td>...</td>\n",
       "      <td>...</td>\n",
       "      <td>...</td>\n",
       "      <td>...</td>\n",
       "      <td>...</td>\n",
       "      <td>...</td>\n",
       "    </tr>\n",
       "    <tr>\n",
       "      <th>335</th>\n",
       "      <td>West Bank and Gaza</td>\n",
       "      <td>2022-01-01</td>\n",
       "      <td>469748.0</td>\n",
       "      <td>4919.0</td>\n",
       "      <td>0.0</td>\n",
       "      <td>1.916550e+10</td>\n",
       "      <td>24.420</td>\n",
       "      <td>117.301113</td>\n",
       "    </tr>\n",
       "    <tr>\n",
       "      <th>336</th>\n",
       "      <td>Zambia</td>\n",
       "      <td>2021-01-01</td>\n",
       "      <td>20997.0</td>\n",
       "      <td>390.0</td>\n",
       "      <td>18773.0</td>\n",
       "      <td>2.209642e+10</td>\n",
       "      <td>5.195</td>\n",
       "      <td>299.818966</td>\n",
       "    </tr>\n",
       "    <tr>\n",
       "      <th>337</th>\n",
       "      <td>Zambia</td>\n",
       "      <td>2022-01-01</td>\n",
       "      <td>257948.0</td>\n",
       "      <td>3740.0</td>\n",
       "      <td>0.0</td>\n",
       "      <td>2.916378e+10</td>\n",
       "      <td>5.993</td>\n",
       "      <td>332.778677</td>\n",
       "    </tr>\n",
       "    <tr>\n",
       "      <th>338</th>\n",
       "      <td>Zimbabwe</td>\n",
       "      <td>2021-01-01</td>\n",
       "      <td>14084.0</td>\n",
       "      <td>369.0</td>\n",
       "      <td>11347.0</td>\n",
       "      <td>2.837124e+10</td>\n",
       "      <td>9.540</td>\n",
       "      <td>5411.002445</td>\n",
       "    </tr>\n",
       "    <tr>\n",
       "      <th>339</th>\n",
       "      <td>Zimbabwe</td>\n",
       "      <td>2022-01-01</td>\n",
       "      <td>214214.0</td>\n",
       "      <td>5017.0</td>\n",
       "      <td>0.0</td>\n",
       "      <td>2.736663e+10</td>\n",
       "      <td>10.087</td>\n",
       "      <td>11076.601788</td>\n",
       "    </tr>\n",
       "  </tbody>\n",
       "</table>\n",
       "<p>340 rows × 8 columns</p>\n",
       "</div>"
      ],
      "text/plain": [
       "         Country/Region        Date  Confirmed  Deaths  Recovered  \\\n",
       "0           Afghanistan  2021-01-01    52513.0  2201.0    41727.0   \n",
       "1           Afghanistan  2022-01-01   158107.0  7356.0        0.0   \n",
       "2               Albania  2021-01-01    58316.0  1181.0    33634.0   \n",
       "3               Albania  2022-01-01   210224.0  3217.0        0.0   \n",
       "4               Algeria  2021-01-01    99897.0  2762.0    67395.0   \n",
       "..                  ...         ...        ...     ...        ...   \n",
       "335  West Bank and Gaza  2022-01-01   469748.0  4919.0        0.0   \n",
       "336              Zambia  2021-01-01    20997.0   390.0    18773.0   \n",
       "337              Zambia  2022-01-01   257948.0  3740.0        0.0   \n",
       "338            Zimbabwe  2021-01-01    14084.0   369.0    11347.0   \n",
       "339            Zimbabwe  2022-01-01   214214.0  5017.0        0.0   \n",
       "\n",
       "              GDP  Unemployment           CPI  \n",
       "0    1.426650e+10        11.934           NaN  \n",
       "1    1.450216e+10        14.100           NaN  \n",
       "2    1.793057e+10        12.473    123.448662  \n",
       "3    1.891638e+10        11.588    131.750835  \n",
       "4    1.862654e+11        13.607    166.218895  \n",
       "..            ...           ...           ...  \n",
       "335  1.916550e+10        24.420    117.301113  \n",
       "336  2.209642e+10         5.195    299.818966  \n",
       "337  2.916378e+10         5.993    332.778677  \n",
       "338  2.837124e+10         9.540   5411.002445  \n",
       "339  2.736663e+10        10.087  11076.601788  \n",
       "\n",
       "[340 rows x 8 columns]"
      ]
     },
     "execution_count": 111,
     "metadata": {},
     "output_type": "execute_result"
    }
   ],
   "source": [
    "# remove 'Unnamed: 0'  because it just technical index from CSV. \n",
    "#remove 'Province/State' because Its value is 0 for almost all records and therefore does not contribute to prediction.\n",
    "covid_df_copy = covid_df_copy.drop([\"Unnamed: 0\",\"Province/State\"], axis=1)\n",
    "covid_df_copy"
   ]
  },
  {
   "cell_type": "markdown",
   "id": "51d50581-44e3-4ebd-b3fd-01f0ab315b2c",
   "metadata": {},
   "source": [
    "***part 2 - handle missing values:***"
   ]
  },
  {
   "cell_type": "code",
   "execution_count": 112,
   "id": "bfbb42a9-e349-4b0e-903d-3c1a4977ee8b",
   "metadata": {},
   "outputs": [
    {
     "data": {
      "text/html": [
       "<div>\n",
       "<style scoped>\n",
       "    .dataframe tbody tr th:only-of-type {\n",
       "        vertical-align: middle;\n",
       "    }\n",
       "\n",
       "    .dataframe tbody tr th {\n",
       "        vertical-align: top;\n",
       "    }\n",
       "\n",
       "    .dataframe thead th {\n",
       "        text-align: right;\n",
       "    }\n",
       "</style>\n",
       "<table border=\"1\" class=\"dataframe\">\n",
       "  <thead>\n",
       "    <tr style=\"text-align: right;\">\n",
       "      <th></th>\n",
       "      <th>Total rows</th>\n",
       "      <th>Missing rows</th>\n",
       "      <th>percentage missing</th>\n",
       "    </tr>\n",
       "  </thead>\n",
       "  <tbody>\n",
       "    <tr>\n",
       "      <th>Country/Region</th>\n",
       "      <td>340</td>\n",
       "      <td>0</td>\n",
       "      <td>0.000000</td>\n",
       "    </tr>\n",
       "    <tr>\n",
       "      <th>Date</th>\n",
       "      <td>340</td>\n",
       "      <td>0</td>\n",
       "      <td>0.000000</td>\n",
       "    </tr>\n",
       "    <tr>\n",
       "      <th>Confirmed</th>\n",
       "      <td>340</td>\n",
       "      <td>0</td>\n",
       "      <td>0.000000</td>\n",
       "    </tr>\n",
       "    <tr>\n",
       "      <th>Deaths</th>\n",
       "      <td>340</td>\n",
       "      <td>0</td>\n",
       "      <td>0.000000</td>\n",
       "    </tr>\n",
       "    <tr>\n",
       "      <th>Recovered</th>\n",
       "      <td>340</td>\n",
       "      <td>0</td>\n",
       "      <td>0.000000</td>\n",
       "    </tr>\n",
       "    <tr>\n",
       "      <th>GDP</th>\n",
       "      <td>340</td>\n",
       "      <td>0</td>\n",
       "      <td>0.000000</td>\n",
       "    </tr>\n",
       "    <tr>\n",
       "      <th>Unemployment</th>\n",
       "      <td>340</td>\n",
       "      <td>0</td>\n",
       "      <td>0.000000</td>\n",
       "    </tr>\n",
       "    <tr>\n",
       "      <th>CPI</th>\n",
       "      <td>340</td>\n",
       "      <td>2</td>\n",
       "      <td>0.588235</td>\n",
       "    </tr>\n",
       "  </tbody>\n",
       "</table>\n",
       "</div>"
      ],
      "text/plain": [
       "                Total rows  Missing rows  percentage missing\n",
       "Country/Region         340             0            0.000000\n",
       "Date                   340             0            0.000000\n",
       "Confirmed              340             0            0.000000\n",
       "Deaths                 340             0            0.000000\n",
       "Recovered              340             0            0.000000\n",
       "GDP                    340             0            0.000000\n",
       "Unemployment           340             0            0.000000\n",
       "CPI                    340             2            0.588235"
      ]
     },
     "execution_count": 112,
     "metadata": {},
     "output_type": "execute_result"
    }
   ],
   "source": [
    "missing_data = covid_df_copy.isnull().sum()\n",
    "total_rows = covid_df_copy.isnull().count()\n",
    "percentage_missing = missing_data * 100 / total_rows \n",
    "final_missing_data = pd.concat([total_rows, missing_data, percentage_missing], axis=1, keys=['Total rows', 'Missing rows', 'percentage missing'])\n",
    "final_missing_data"
   ]
  },
  {
   "cell_type": "code",
   "execution_count": 113,
   "id": "451f7071-407f-45a0-bdc5-ec7025bee3c4",
   "metadata": {},
   "outputs": [
    {
     "data": {
      "text/plain": [
       "(338, 8)"
      ]
     },
     "execution_count": 113,
     "metadata": {},
     "output_type": "execute_result"
    }
   ],
   "source": [
    "#drop NAN because there only 2 NAN values in 340 samples(0.5%) and therefore it is not a significant lose of data\n",
    "covid_df_copy = covid_df_copy.dropna()\n",
    "covid_df_copy.shape"
   ]
  },
  {
   "cell_type": "code",
   "execution_count": 114,
   "id": "6792f9d4-5de0-45e7-a068-53c138a71308",
   "metadata": {},
   "outputs": [
    {
     "name": "stdout",
     "output_type": "stream",
     "text": [
      "Country/Region:\n",
      "['Albania' 'Algeria' 'Andorra' 'Angola' 'Antigua and Barbuda' 'Argentina'\n",
      " 'Armenia' 'Australia' 'Austria' 'Azerbaijan' 'Bahrain' 'Bangladesh'\n",
      " 'Barbados' 'Belarus' 'Belgium' 'Belize' 'Benin' 'Bhutan' 'Bolivia'\n",
      " 'Bosnia and Herzegovina']\n",
      "----------------------------------------\n",
      "Date:\n",
      "['2021-01-01' '2022-01-01']\n",
      "----------------------------------------\n",
      "Confirmed:\n",
      "[5.831600e+04 2.102240e+05 9.989700e+04 2.188180e+05 8.117000e+03\n",
      " 2.374000e+04 1.756800e+04 8.239800e+04 1.590000e+02 4.283000e+03\n",
      " 1.629594e+06 5.674428e+06 1.597380e+05 3.449800e+05 2.846000e+04\n",
      " 4.629550e+05 3.587740e+05 1.274628e+06 2.190410e+05 6.173110e+05]\n",
      "----------------------------------------\n",
      "Deaths:\n",
      "[1.18100e+03 3.21700e+03 2.76200e+03 6.28400e+03 8.40000e+01 1.40000e+02\n",
      " 4.05000e+02 1.77200e+03 5.00000e+00 1.19000e+02 4.33190e+04 1.17181e+05\n",
      " 2.82800e+03 7.97500e+03 9.09000e+02 2.25700e+03 7.56400e+03 1.68450e+04\n",
      " 2.67000e+03 8.36500e+03]\n",
      "----------------------------------------\n",
      "Recovered:\n",
      "[3.363400e+04 0.000000e+00 6.739500e+04 7.463000e+03 1.114600e+04\n",
      " 1.480000e+02 1.426676e+06 1.433550e+05 2.257300e+04 3.349010e+05\n",
      " 1.882800e+05 9.036900e+04 4.586560e+05 3.190000e+02 1.781020e+05\n",
      " 9.795000e+03 3.061000e+03 4.490000e+02 1.325100e+05 7.768200e+04]\n",
      "----------------------------------------\n",
      "GDP:\n",
      "[1.79305651e+10 1.89163789e+10 1.86265419e+11 2.25560257e+11\n",
      " 3.32468301e+09 3.38060204e+09 6.65051300e+10 1.04399747e+11\n",
      " 1.60136667e+09 1.86773333e+09 4.87902572e+11 6.31133384e+11\n",
      " 1.38789086e+10 1.95134746e+10 1.55903376e+12 1.69295665e+12\n",
      " 4.79295363e+11 4.70941927e+11 5.48254118e+10 7.88074706e+10]\n",
      "----------------------------------------\n",
      "Unemployment:\n",
      "[12.473 11.588 13.607 12.437 15.799 14.693  8.736  6.805 10.012  8.608\n",
      "  5.116  3.701  6.459  4.992  6.04   5.65   1.551  1.326  5.815  5.247]\n",
      "----------------------------------------\n",
      "CPI:\n",
      "[123.44866205 131.75083482 166.21889452 181.61993198 583.67577944\n",
      " 708.32143557 118.55559472 127.48410944 140.13441073 152.24330057\n",
      " 124.27159209 132.46618106 123.00084356 133.51356568 171.94318276\n",
      " 195.76119779 115.3158755  119.49693053 200.43703917 215.86458662]\n",
      "----------------------------------------\n"
     ]
    }
   ],
   "source": [
    "# checking for meaningless values\n",
    "for col in covid_df_copy.columns:\n",
    "    print(f\"{col}:\")\n",
    "    print(covid_df_copy[col].unique()[:20]) \n",
    "    print(\"-\"*40)"
   ]
  },
  {
   "cell_type": "code",
   "execution_count": 115,
   "id": "55e592c0-48f4-4087-87a4-72ea932d3196",
   "metadata": {},
   "outputs": [
    {
     "data": {
      "text/plain": [
       "Country/Region      0\n",
       "Date                0\n",
       "Confirmed           7\n",
       "Deaths             23\n",
       "Recovered         177\n",
       "GDP                 0\n",
       "Unemployment        0\n",
       "CPI                 0\n",
       "dtype: int64"
      ]
     },
     "execution_count": 115,
     "metadata": {},
     "output_type": "execute_result"
    }
   ],
   "source": [
    "# check for suspected zeros\n",
    "(covid_df_copy == 0).sum()"
   ]
  },
  {
   "cell_type": "code",
   "execution_count": 116,
   "id": "6450c04c-73c4-421a-a46f-45238bbb1771",
   "metadata": {},
   "outputs": [
    {
     "name": "stdout",
     "output_type": "stream",
     "text": [
      "         Date  num_zeros\n",
      "0  2021-01-01          8\n",
      "1  2022-01-01        169\n",
      "\n",
      "almost all 'Recovered' data rows of 2022 are 0 so it indicates about lack of reporting in year 2022\n"
     ]
    }
   ],
   "source": [
    "#check the number of zero values in every Date on \"Recovered\" (the zeros in entire columns are logical)\n",
    "zeros_by_date = (\n",
    "    covid_df_copy\n",
    "    .groupby(\"Date\")[\"Recovered\"]\n",
    "    .apply(lambda x: (x == 0).sum())\n",
    "    .reset_index(name=\"num_zeros\")\n",
    ")\n",
    "\n",
    "print(zeros_by_date)\n",
    "print(\"\\nalmost all 'Recovered' data rows of 2022 are 0 so it indicates about lack of reporting in year 2022\")"
   ]
  },
  {
   "cell_type": "markdown",
   "id": "8707b1cd-52ed-4e78-82e9-28a8293c290d",
   "metadata": {},
   "source": [
    "**Explanation:** Since there are many zero values in the 2022 data, I assume these zeros result from missing reports rather than actual values. In contrast, the 2021 data is much more complete, so we can use it to estimate realistic values. Leaving the zeros as they are would bias the dataset. Therefore,in the following code I calculated for each country the ratio between recovered and confirmed cases in 2021, and used this ratio to fill the missing or zero recovery values in 2022. This approach helps reduce data bias and improves the reliability of the dataset."
   ]
  },
  {
   "cell_type": "code",
   "execution_count": 117,
   "id": "2fbbba8f-52aa-458b-a52a-b5d2427d9e05",
   "metadata": {},
   "outputs": [
    {
     "name": "stdout",
     "output_type": "stream",
     "text": [
      "Country/Region\n",
      "Samoa               1.000000\n",
      "Vanuatu             1.000000\n",
      "Marshall Islands    1.000000\n",
      "Singapore           0.996930\n",
      "El Salvador         0.988068\n",
      "Qatar               0.982741\n",
      "Djibouti            0.982021\n",
      "Gabon               0.980880\n",
      "Ghana               0.978664\n",
      "Guinea-Bissau       0.977569\n",
      "Name: ratio, dtype: float64\n"
     ]
    }
   ],
   "source": [
    "# calculate ratio of \"Recovered\"/\"Confirmed\" of 2021 to aplly it on the missing values on year 2022\n",
    "\n",
    "covid_df_copy = covid_df_copy.copy()\n",
    "covid_df_copy[\"Date\"] = pd.to_datetime(covid_df_copy[\"Date\"], errors=\"coerce\")\n",
    "\n",
    "totals = covid_df_copy.loc[covid_df_copy[\"Date\"].dt.year == 2021].groupby(\"Country/Region\", as_index=False)[[\"Recovered\", \"Confirmed\"]].sum()\n",
    "\n",
    "totals[\"ratio\"] = totals[\"Recovered\"] / totals[\"Confirmed\"]\n",
    "totals.loc[totals[\"Confirmed\"] == 0, \"ratio\"] = np.nan\n",
    "\n",
    "ratio_by_country = totals.set_index(\"Country/Region\")[\"ratio\"].sort_values(ascending=False)\n",
    "print(ratio_by_country.head(10))"
   ]
  },
  {
   "cell_type": "code",
   "execution_count": 118,
   "id": "2313bff1-0c9c-4165-961a-11f8df284ce7",
   "metadata": {},
   "outputs": [
    {
     "name": "stdout",
     "output_type": "stream",
     "text": [
      "Zeros remaining: 16\n",
      "NaN remaining: 0\n"
     ]
    }
   ],
   "source": [
    "# fill the missing values of 2022 'Recovered' column\n",
    "\n",
    "mask_2022 = covid_df_copy[\"Date\"].dt.year == 2022\n",
    "mask_missing_recovered = (mask_2022) & (covid_df_copy[\"Recovered\"] == 0)\n",
    "\n",
    "ratio_map = covid_df_copy[\"Country/Region\"].map(ratio_by_country)\n",
    "fill_candidate = covid_df_copy[\"Confirmed\"] * ratio_map\n",
    "\n",
    "condition = mask_missing_recovered & fill_candidate.notna()\n",
    "covid_df_copy.loc[condition, \"Recovered\"] = fill_candidate.loc[condition]\n",
    "\n",
    "print(\"Zeros remaining:\", (covid_df_copy[\"Recovered\"] == 0).sum())\n",
    "print(\"NaN remaining:\", covid_df_copy[\"Recovered\"].isna().sum())"
   ]
  },
  {
   "cell_type": "code",
   "execution_count": 119,
   "id": "fe5ea434-4f21-4d4a-aa51-c907ddcfc4a8",
   "metadata": {},
   "outputs": [
    {
     "name": "stdout",
     "output_type": "stream",
     "text": [
      "(16, 8)\n",
      "    Country/Region       Date  Confirmed   Deaths  Recovered           GDP  \\\n",
      "30         Belgium 2021-01-01   648289.0  19581.0        0.0  6.009045e+11   \n",
      "31         Belgium 2022-01-01  2105343.0  28331.0        0.0  5.836140e+11   \n",
      "162       Kiribati 2021-01-01        0.0      0.0        0.0  2.892075e+08   \n",
      "163       Kiribati 2022-01-01        2.0      0.0        0.0  2.705207e+08   \n",
      "218          Nauru 2021-01-01        0.0      0.0        0.0  1.753903e+08   \n",
      "219          Nauru 2022-01-01        0.0      0.0        0.0  1.538246e+08   \n",
      "240          Palau 2021-01-01        0.0      0.0        0.0  2.298582e+08   \n",
      "241          Palau 2022-01-01       12.0      0.0        0.0  2.423337e+08   \n",
      "272         Serbia 2021-01-01   339997.0   3250.0        0.0  6.310104e+10   \n",
      "273         Serbia 2022-01-01  1300949.0  12739.0        0.0  6.356341e+10   \n",
      "298         Sweden 2021-01-01   437379.0   8727.0        0.0  6.397150e+11   \n",
      "299         Sweden 2022-01-01  1314784.0  15310.0        0.0  5.904096e+11   \n",
      "312          Tonga 2021-01-01        0.0      0.0        0.0  4.692282e+08   \n",
      "313          Tonga 2022-01-01        1.0      0.0        0.0  5.002749e+08   \n",
      "318         Tuvalu 2021-01-01        0.0      0.0        0.0  6.019641e+07   \n",
      "319         Tuvalu 2022-01-01        0.0      0.0        0.0  5.906598e+07   \n",
      "\n",
      "     Unemployment         CPI  \n",
      "30          6.264  120.856958  \n",
      "31          5.558  132.456219  \n",
      "162         5.805  105.218807  \n",
      "163         5.805  105.218807  \n",
      "218        19.748  177.472174  \n",
      "219        19.748  177.472174  \n",
      "240         5.548  124.584805  \n",
      "241         5.548  139.974347  \n",
      "272        10.061  152.241432  \n",
      "273         8.684  170.482257  \n",
      "298         8.722  113.461279  \n",
      "299         7.392  122.957183  \n",
      "312         2.111  135.565369  \n",
      "313         2.354  150.438740  \n",
      "318        15.301  187.846106  \n",
      "319        15.301  187.846106  \n"
     ]
    }
   ],
   "source": [
    "remaining_zeros = covid_df_copy[covid_df_copy[\"Recovered\"] == 0]\n",
    "print(remaining_zeros.shape)   \n",
    "print(remaining_zeros)"
   ]
  },
  {
   "cell_type": "markdown",
   "id": "ccb02357-13ee-4eb8-a63b-2214c3f512a6",
   "metadata": {},
   "source": [
    "**Explanation:** After applying the ratio-based method, three countries still lacked recovery data from 2021, so I couldn’t use the same approach for them. To handle these remaining missing values, I filled them using the overall median recovery value across all countries. This alternative method further reduces bias while preserving the usability of the recovery column."
   ]
  },
  {
   "cell_type": "code",
   "execution_count": 120,
   "id": "402cd432-6c0c-4815-b496-cfcaf10d5b1b",
   "metadata": {},
   "outputs": [],
   "source": [
    "# Fill missing 2022 'Recovered' where zeros are not logical using 2021 country medians (fallback: global median)\n",
    "\n",
    "target_countries = [\"Belgium\",\"Serbia\",\"Sweden\"]\n",
    "mask = covid_df_copy[\"Country/Region\"].isin(target_countries)\n",
    "\n",
    "median_2021_by_country = (\n",
    "    covid_df_copy.loc[covid_df_copy[\"Date\"].dt.year == 2021, [\"Country/Region\",\"Recovered\"]]\n",
    "    .replace({\"Recovered\": {0: np.nan}})\n",
    "    .groupby(\"Country/Region\")[\"Recovered\"].median()\n",
    ")\n",
    "\n",
    "fallback_median = median_2021_by_country.median()\n",
    "\n",
    "covid_df_copy.loc[mask, \"Recovered\"] = fallback_median"
   ]
  },
  {
   "cell_type": "code",
   "execution_count": 121,
   "id": "239bf376-6184-4665-9b95-7931cb780d3b",
   "metadata": {},
   "outputs": [
    {
     "name": "stdout",
     "output_type": "stream",
     "text": [
      "(10, 8)\n",
      "    Country/Region       Date  Confirmed  Deaths  Recovered           GDP  \\\n",
      "162       Kiribati 2021-01-01        0.0     0.0        0.0  2.892075e+08   \n",
      "163       Kiribati 2022-01-01        2.0     0.0        0.0  2.705207e+08   \n",
      "218          Nauru 2021-01-01        0.0     0.0        0.0  1.753903e+08   \n",
      "219          Nauru 2022-01-01        0.0     0.0        0.0  1.538246e+08   \n",
      "240          Palau 2021-01-01        0.0     0.0        0.0  2.298582e+08   \n",
      "241          Palau 2022-01-01       12.0     0.0        0.0  2.423337e+08   \n",
      "312          Tonga 2021-01-01        0.0     0.0        0.0  4.692282e+08   \n",
      "313          Tonga 2022-01-01        1.0     0.0        0.0  5.002749e+08   \n",
      "318         Tuvalu 2021-01-01        0.0     0.0        0.0  6.019641e+07   \n",
      "319         Tuvalu 2022-01-01        0.0     0.0        0.0  5.906598e+07   \n",
      "\n",
      "     Unemployment         CPI  \n",
      "162         5.805  105.218807  \n",
      "163         5.805  105.218807  \n",
      "218        19.748  177.472174  \n",
      "219        19.748  177.472174  \n",
      "240         5.548  124.584805  \n",
      "241         5.548  139.974347  \n",
      "312         2.111  135.565369  \n",
      "313         2.354  150.438740  \n",
      "318        15.301  187.846106  \n",
      "319        15.301  187.846106  \n",
      "\n",
      "remaining zeros on 'Recovered' 'Confirmed' and 'Deaths' columns  are logical and can be real\n"
     ]
    }
   ],
   "source": [
    "remaining_zeros = covid_df_copy[covid_df_copy[\"Recovered\"] == 0]\n",
    "print(remaining_zeros.shape)   \n",
    "print(remaining_zeros)\n",
    "print(\"\\nremaining zeros on 'Recovered' 'Confirmed' and 'Deaths' columns  are logical and can be real\")"
   ]
  },
  {
   "cell_type": "code",
   "execution_count": 122,
   "id": "cf9b4ea6-8aaa-4c7e-9b55-923f10b3fdc6",
   "metadata": {},
   "outputs": [
    {
     "data": {
      "text/html": [
       "<div>\n",
       "<style scoped>\n",
       "    .dataframe tbody tr th:only-of-type {\n",
       "        vertical-align: middle;\n",
       "    }\n",
       "\n",
       "    .dataframe tbody tr th {\n",
       "        vertical-align: top;\n",
       "    }\n",
       "\n",
       "    .dataframe thead th {\n",
       "        text-align: right;\n",
       "    }\n",
       "</style>\n",
       "<table border=\"1\" class=\"dataframe\">\n",
       "  <thead>\n",
       "    <tr style=\"text-align: right;\">\n",
       "      <th></th>\n",
       "      <th>Total rows</th>\n",
       "      <th>Missing rows</th>\n",
       "      <th>percentage missing</th>\n",
       "    </tr>\n",
       "  </thead>\n",
       "  <tbody>\n",
       "    <tr>\n",
       "      <th>Country/Region</th>\n",
       "      <td>338</td>\n",
       "      <td>0</td>\n",
       "      <td>0.0</td>\n",
       "    </tr>\n",
       "    <tr>\n",
       "      <th>Date</th>\n",
       "      <td>338</td>\n",
       "      <td>0</td>\n",
       "      <td>0.0</td>\n",
       "    </tr>\n",
       "    <tr>\n",
       "      <th>Confirmed</th>\n",
       "      <td>338</td>\n",
       "      <td>0</td>\n",
       "      <td>0.0</td>\n",
       "    </tr>\n",
       "    <tr>\n",
       "      <th>Deaths</th>\n",
       "      <td>338</td>\n",
       "      <td>0</td>\n",
       "      <td>0.0</td>\n",
       "    </tr>\n",
       "    <tr>\n",
       "      <th>Recovered</th>\n",
       "      <td>338</td>\n",
       "      <td>0</td>\n",
       "      <td>0.0</td>\n",
       "    </tr>\n",
       "    <tr>\n",
       "      <th>GDP</th>\n",
       "      <td>338</td>\n",
       "      <td>0</td>\n",
       "      <td>0.0</td>\n",
       "    </tr>\n",
       "    <tr>\n",
       "      <th>Unemployment</th>\n",
       "      <td>338</td>\n",
       "      <td>0</td>\n",
       "      <td>0.0</td>\n",
       "    </tr>\n",
       "    <tr>\n",
       "      <th>CPI</th>\n",
       "      <td>338</td>\n",
       "      <td>0</td>\n",
       "      <td>0.0</td>\n",
       "    </tr>\n",
       "  </tbody>\n",
       "</table>\n",
       "</div>"
      ],
      "text/plain": [
       "                Total rows  Missing rows  percentage missing\n",
       "Country/Region         338             0                 0.0\n",
       "Date                   338             0                 0.0\n",
       "Confirmed              338             0                 0.0\n",
       "Deaths                 338             0                 0.0\n",
       "Recovered              338             0                 0.0\n",
       "GDP                    338             0                 0.0\n",
       "Unemployment           338             0                 0.0\n",
       "CPI                    338             0                 0.0"
      ]
     },
     "metadata": {},
     "output_type": "display_data"
    },
    {
     "name": "stdout",
     "output_type": "stream",
     "text": [
      "all missing values handled\n"
     ]
    }
   ],
   "source": [
    "# cheking again to be sure there are no missing values \n",
    "missing_data = covid_df_copy.isnull().sum()\n",
    "total_rows = covid_df_copy.isnull().count()\n",
    "percentage_missing = missing_data * 100 / total_rows \n",
    "final_missing_data = pd.concat([total_rows, missing_data, percentage_missing], axis=1, keys=['Total rows', 'Missing rows', 'percentage missing'])\n",
    "display(final_missing_data)\n",
    "print(\"all missing values handled\")"
   ]
  },
  {
   "cell_type": "markdown",
   "id": "87ce76e4-c51a-4b34-908d-52572d13f88a",
   "metadata": {},
   "source": [
    "***part 3 - handle duplicated rows:***"
   ]
  },
  {
   "cell_type": "code",
   "execution_count": 123,
   "id": "a4d35cfe-c1f1-48b6-b586-eefa29b98ab6",
   "metadata": {},
   "outputs": [
    {
     "data": {
      "text/html": [
       "<div>\n",
       "<style scoped>\n",
       "    .dataframe tbody tr th:only-of-type {\n",
       "        vertical-align: middle;\n",
       "    }\n",
       "\n",
       "    .dataframe tbody tr th {\n",
       "        vertical-align: top;\n",
       "    }\n",
       "\n",
       "    .dataframe thead th {\n",
       "        text-align: right;\n",
       "    }\n",
       "</style>\n",
       "<table border=\"1\" class=\"dataframe\">\n",
       "  <thead>\n",
       "    <tr style=\"text-align: right;\">\n",
       "      <th></th>\n",
       "      <th>Country/Region</th>\n",
       "      <th>Date</th>\n",
       "      <th>Confirmed</th>\n",
       "      <th>Deaths</th>\n",
       "      <th>Recovered</th>\n",
       "      <th>GDP</th>\n",
       "      <th>Unemployment</th>\n",
       "      <th>CPI</th>\n",
       "    </tr>\n",
       "  </thead>\n",
       "  <tbody>\n",
       "  </tbody>\n",
       "</table>\n",
       "</div>"
      ],
      "text/plain": [
       "Empty DataFrame\n",
       "Columns: [Country/Region, Date, Confirmed, Deaths, Recovered, GDP, Unemployment, CPI]\n",
       "Index: []"
      ]
     },
     "metadata": {},
     "output_type": "display_data"
    },
    {
     "name": "stdout",
     "output_type": "stream",
     "text": [
      "no duplicated rows to remove\n"
     ]
    }
   ],
   "source": [
    "duplicate_rows = covid_df_copy[covid_df_copy.duplicated()]\n",
    "display(duplicate_rows)\n",
    "print(\"no duplicated rows to remove\")"
   ]
  },
  {
   "cell_type": "markdown",
   "id": "60528238-2850-4938-925c-2b811261b4e3",
   "metadata": {},
   "source": [
    "***part 4 - Convert categorical features to numerical form using the get_dummies() method if \n",
    "needed:***"
   ]
  },
  {
   "cell_type": "code",
   "execution_count": 124,
   "id": "255fc82c-7ae6-4f61-bce4-6cf7ac4d5f27",
   "metadata": {},
   "outputs": [
    {
     "name": "stdout",
     "output_type": "stream",
     "text": [
      " get_dummies() is not relevant here\n"
     ]
    }
   ],
   "source": [
    "print(\" get_dummies() is not relevant here\")"
   ]
  },
  {
   "cell_type": "markdown",
   "id": "db5bfc45-36ec-4d0e-9c99-ee597ec8cb23",
   "metadata": {},
   "source": [
    "***part 5 -  aggregate the data:***"
   ]
  },
  {
   "cell_type": "code",
   "execution_count": 125,
   "id": "41017f01-99d4-415a-af3b-8de27724d529",
   "metadata": {
    "scrolled": true
   },
   "outputs": [
    {
     "data": {
      "text/html": [
       "<div>\n",
       "<style scoped>\n",
       "    .dataframe tbody tr th:only-of-type {\n",
       "        vertical-align: middle;\n",
       "    }\n",
       "\n",
       "    .dataframe tbody tr th {\n",
       "        vertical-align: top;\n",
       "    }\n",
       "\n",
       "    .dataframe thead th {\n",
       "        text-align: right;\n",
       "    }\n",
       "</style>\n",
       "<table border=\"1\" class=\"dataframe\">\n",
       "  <thead>\n",
       "    <tr style=\"text-align: right;\">\n",
       "      <th></th>\n",
       "      <th>Country/Region</th>\n",
       "      <th>Confirmed</th>\n",
       "      <th>Deaths</th>\n",
       "      <th>Recovered</th>\n",
       "      <th>GDP</th>\n",
       "      <th>Unemployment</th>\n",
       "      <th>CPI</th>\n",
       "    </tr>\n",
       "  </thead>\n",
       "  <tbody>\n",
       "    <tr>\n",
       "      <th>0</th>\n",
       "      <td>Albania</td>\n",
       "      <td>268540.0</td>\n",
       "      <td>4398.0</td>\n",
       "      <td>154881.582413</td>\n",
       "      <td>1.842347e+10</td>\n",
       "      <td>12.0305</td>\n",
       "      <td>127.599748</td>\n",
       "    </tr>\n",
       "    <tr>\n",
       "      <th>1</th>\n",
       "      <td>Algeria</td>\n",
       "      <td>318715.0</td>\n",
       "      <td>9046.0</td>\n",
       "      <td>215019.444278</td>\n",
       "      <td>2.059128e+11</td>\n",
       "      <td>13.0220</td>\n",
       "      <td>173.919413</td>\n",
       "    </tr>\n",
       "    <tr>\n",
       "      <th>2</th>\n",
       "      <td>Andorra</td>\n",
       "      <td>31857.0</td>\n",
       "      <td>224.0</td>\n",
       "      <td>29290.229272</td>\n",
       "      <td>3.352643e+09</td>\n",
       "      <td>12.4370</td>\n",
       "      <td>181.619932</td>\n",
       "    </tr>\n",
       "    <tr>\n",
       "      <th>3</th>\n",
       "      <td>Angola</td>\n",
       "      <td>99966.0</td>\n",
       "      <td>2177.0</td>\n",
       "      <td>63423.328552</td>\n",
       "      <td>8.545244e+10</td>\n",
       "      <td>15.2460</td>\n",
       "      <td>645.998608</td>\n",
       "    </tr>\n",
       "    <tr>\n",
       "      <th>4</th>\n",
       "      <td>Antigua and Barbuda</td>\n",
       "      <td>4442.0</td>\n",
       "      <td>124.0</td>\n",
       "      <td>4134.691824</td>\n",
       "      <td>1.734550e+09</td>\n",
       "      <td>14.6930</td>\n",
       "      <td>123.019852</td>\n",
       "    </tr>\n",
       "  </tbody>\n",
       "</table>\n",
       "</div>"
      ],
      "text/plain": [
       "        Country/Region  Confirmed  Deaths      Recovered           GDP  \\\n",
       "0              Albania   268540.0  4398.0  154881.582413  1.842347e+10   \n",
       "1              Algeria   318715.0  9046.0  215019.444278  2.059128e+11   \n",
       "2              Andorra    31857.0   224.0   29290.229272  3.352643e+09   \n",
       "3               Angola    99966.0  2177.0   63423.328552  8.545244e+10   \n",
       "4  Antigua and Barbuda     4442.0   124.0    4134.691824  1.734550e+09   \n",
       "\n",
       "   Unemployment         CPI  \n",
       "0       12.0305  127.599748  \n",
       "1       13.0220  173.919413  \n",
       "2       12.4370  181.619932  \n",
       "3       15.2460  645.998608  \n",
       "4       14.6930  123.019852  "
      ]
     },
     "execution_count": 125,
     "metadata": {},
     "output_type": "execute_result"
    }
   ],
   "source": [
    "# aggregate the data by country for the years 2020 and 2021(so every country have now only one row)\n",
    "# Use SUM for epidemiological counts (Confirmed, Deaths, Recovered)  because they represent cumulative totals across years.\n",
    "# Use MEAN for economic indicators (GDP, Unemployment, CPI) because they represent yearly averages or rates.\n",
    "sum_cols = [\"Confirmed\", \"Deaths\", \"Recovered\"]\n",
    "mean_cols = [\"GDP\", \"Unemployment\", \"CPI\"]\n",
    "\n",
    "df_sum = covid_df_copy.groupby(\"Country/Region\", as_index=False)[sum_cols].sum()\n",
    "df_mean = covid_df_copy.groupby(\"Country/Region\", as_index=False)[mean_cols].mean()\n",
    "\n",
    "df_yearly = pd.merge(df_sum, df_mean, on=\"Country/Region\")\n",
    "\n",
    "df_yearly.head()\n"
   ]
  },
  {
   "cell_type": "markdown",
   "id": "22d776c9-ce81-4812-9dc3-29a8a64660be",
   "metadata": {},
   "source": [
    "## Data exploration: "
   ]
  },
  {
   "cell_type": "markdown",
   "id": "177f2aa3-4d87-4755-8989-7fe490009659",
   "metadata": {},
   "source": [
    "***part 1 - Check the correlation between each feature to the label column and each feature to \n",
    "the other feature.***"
   ]
  },
  {
   "cell_type": "code",
   "execution_count": 126,
   "id": "3918c31b-7762-471e-83d3-7d7bb3e818f2",
   "metadata": {
    "scrolled": true
   },
   "outputs": [
    {
     "data": {
      "text/plain": [
       "<seaborn.axisgrid.PairGrid at 0x27a546b9bd0>"
      ]
     },
     "execution_count": 126,
     "metadata": {},
     "output_type": "execute_result"
    },
    {
     "data": {
      "image/png": "[encoded data removed]",
      "text/plain": [
       "<Figure size 1500x1500 with 42 Axes>"
      ]
     },
     "metadata": {},
     "output_type": "display_data"
    }
   ],
   "source": [
    "# correlation by pairplot\n",
    "sns.pairplot(df_yearly)"
   ]
  },
  {
   "cell_type": "code",
   "execution_count": 127,
   "id": "84e9bfb0-15e7-4da2-9d5b-edd546defdec",
   "metadata": {},
   "outputs": [
    {
     "name": "stdout",
     "output_type": "stream",
     "text": [
      "Correlation of each feature to GDP:\n",
      "Confirmed       0.274813\n",
      "Deaths          0.243658\n",
      "Recovered       0.209846\n",
      "CPI            -0.021508\n",
      "Unemployment   -0.094615\n",
      "Name: GDP, dtype: float64\n"
     ]
    }
   ],
   "source": [
    "# calculation of correlation to GDP\n",
    "corr = df_yearly.select_dtypes(\"number\").corr()\n",
    "corr_to_gdp = corr[\"GDP\"].drop(\"GDP\").sort_values(ascending=False)\n",
    "print(\"Correlation of each feature to GDP:\")\n",
    "print(corr_to_gdp)"
   ]
  },
  {
   "cell_type": "markdown",
   "id": "44239198-1f7f-4e47-be3c-85fe161861f1",
   "metadata": {},
   "source": [
    "***part 2 - Generate a heatmap that visualizes those correlations:***"
   ]
  },
  {
   "cell_type": "code",
   "execution_count": 128,
   "id": "30c87478-688f-4ed7-9a19-8aff5aba04cf",
   "metadata": {
    "scrolled": true
   },
   "outputs": [
    {
     "data": {
      "image/png": "[encoded data removed]",
      "text/plain": [
       "<Figure size 700x600 with 2 Axes>"
      ]
     },
     "metadata": {},
     "output_type": "display_data"
    }
   ],
   "source": [
    "# Correlation by heatmap\n",
    "\n",
    "plt.figure(figsize=(7,6))\n",
    "sns.heatmap(corr, annot=True, cmap=\"coolwarm\", fmt=\".2f\")\n",
    "plt.title(\"All Correlations by heatmap\")\n",
    "plt.tight_layout()\n",
    "plt.show()"
   ]
  },
  {
   "cell_type": "markdown",
   "id": "d272e236-692f-4471-b8ed-5410266b6820",
   "metadata": {},
   "source": [
    "***part 3 - Provide meaningful insight from the correlation check:***"
   ]
  },
  {
   "cell_type": "markdown",
   "id": "51310bf6-358d-4aa3-a927-771196a59049",
   "metadata": {},
   "source": [
    "### COVID-related variables\n",
    "- **Confirmed ↔ Deaths (0.90)** – Very strong positive correlation.  \n",
    "  → More confirmed cases naturally lead to more deaths.  \n",
    "- **Confirmed ↔ Recovered (0.93)** – Very strong positive correlation.  \n",
    "  → Larger outbreaks lead to more recoveries.  \n",
    "- **Deaths ↔ Recovered (0.84)** – Strong positive correlation.  \n",
    "  → Both depend on total infection counts.  \n",
    "\n",
    "***These three variables are highly correlated, indicating multicollinearity — they contain overlapping information.***\n",
    "\n",
    "---\n",
    "\n",
    "### Relationship between COVID metrics and GDP\n",
    "- **Confirmed (0.27)** – Weak–moderate positive correlation.  \n",
    "  → High-GDP countries tend to report more cases due to population size and testing capacity.  \n",
    "- **Deaths (0.24)** – Weak positive correlation.  \n",
    "  → Reflects similar reporting patterns.  \n",
    "- **Recovered (0.21)** – Weak positive correlation.  \n",
    "  → Consistent with total case count and healthcare quality.  \n",
    "\n",
    "***COVID variables show only mild correlation with GDP — they are not strong predictors of economic performance.***\n",
    "\n",
    "---\n",
    "\n",
    "- **In the pairplot**, a clear linear trend can be observed between the COVID-related variables and GDP, as well as among the COVID-related variables themselves.\n",
    "\n",
    "--- \n",
    "\n",
    "### Insights:\n",
    "- It seems that there is a linear trend correlation with GDP.\n",
    "- Strongest correlations exist **within COVID features**, not between COVID and economic indicators.  \n",
    "- **GDP** correlates positivly to COVID-related variables but correlates only weakly with all other features.\n",
    "- Before training, the data was aggregated by country to combine both 2020 and 2021 records. \n",
    "This aggregation step follows the project instructions and ensures that each country is represented by a single averaged record. \n",
    "As a result, some year-to-year variability was smoothed out, which explains why the COVID-related variables  correlations to GDP appear relatively weak.\n"
   ]
  },
  {
   "cell_type": "markdown",
   "id": "1f8a4faa-8ffa-414a-8e35-c075b14df1c9",
   "metadata": {},
   "source": [
    "## Linear Regression model training: "
   ]
  },
  {
   "cell_type": "code",
   "execution_count": 129,
   "id": "283527b1-7506-4ba5-a208-78232042d18f",
   "metadata": {},
   "outputs": [],
   "source": [
    "# prepare import of all models\n",
    "\n",
    "from sklearn.model_selection import train_test_split\n",
    "from sklearn.preprocessing import StandardScaler, PolynomialFeatures  \n",
    "from sklearn.linear_model import LinearRegression, RidgeCV, LassoCV\n",
    "from sklearn.metrics import mean_absolute_error, mean_squared_error"
   ]
  },
  {
   "cell_type": "markdown",
   "id": "9725d999-56e2-458d-9671-a0c1c0ee66cd",
   "metadata": {},
   "source": [
    "***part 1-2 - Perform feature scaling of type Standardization and Perform train / test split:***"
   ]
  },
  {
   "cell_type": "code",
   "execution_count": 130,
   "id": "028df242-8844-4920-acc4-c3c8281138eb",
   "metadata": {},
   "outputs": [],
   "source": [
    "df_yearly[\"GDP\"] = df_yearly[\"GDP\"] / 1e9  # Scale down the GDP to smaller units\n",
    "\n",
    "X = df_yearly[[\"Confirmed\", \"Deaths\", \"Recovered\", \"Unemployment\", \"CPI\"]]\n",
    "y = df_yearly[\"GDP\"]\n",
    "\n",
    "\n",
    "X_train, X_test, y_train, y_test = train_test_split(X, y, test_size=0.3, random_state=42)\n",
    "\n",
    "scaler = StandardScaler()\n",
    "scaled_X_train = scaler.fit_transform(X_train)\n",
    "scaled_X_test = scaler.transform(X_test)"
   ]
  },
  {
   "cell_type": "markdown",
   "id": "a956f4c2-1f41-4c12-8f3c-6385cefd1548",
   "metadata": {},
   "source": [
    "***part 3 - use any technique For finding optimal parameter values***\n",
    "\n",
    "application of this task during **Multi model training** part"
   ]
  },
  {
   "cell_type": "markdown",
   "id": "811af13e-9499-43f2-bec3-c2e83e9dca4a",
   "metadata": {},
   "source": [
    "### Multi model training:"
   ]
  },
  {
   "cell_type": "code",
   "execution_count": 131,
   "id": "1056c946-64ab-4f6e-b172-42a62541d805",
   "metadata": {},
   "outputs": [],
   "source": [
    "# prepare function of errors report\n",
    "def reg_report(y_true, y_pred):\n",
    "    mae = mean_absolute_error(y_true, y_pred)\n",
    "    mse = mean_squared_error(y_true, y_pred)\n",
    "    rmse = np.sqrt(mse)\n",
    "    return mae, mse, rmse\n",
    "\n",
    "# prepare function to print betas\n",
    "def print_betas(model):\n",
    "    feature_names = [\"Confirmed\", \"Deaths\", \"Recovered\", \"Unemployment\", \"CPI\"]\n",
    "    print(\"model betas:\")\n",
    "    for name, coef in zip(feature_names, model.coef_):\n",
    "        print(f\"{name}: {coef:.6f}\")"
   ]
  },
  {
   "cell_type": "markdown",
   "id": "664ee949-7c96-4a23-ba2e-42a8bb867191",
   "metadata": {},
   "source": [
    "***part 1 -  Vanilla Linear Regression:***"
   ]
  },
  {
   "cell_type": "code",
   "execution_count": 132,
   "id": "31300258-7278-44a3-875b-2592d7add139",
   "metadata": {},
   "outputs": [
    {
     "name": "stdout",
     "output_type": "stream",
     "text": [
      "RMSE per fold: [1302.06283799  360.97933878 3738.59775155  340.76917532  345.77665521]\n",
      "Average CV RMSE: 1217.6371517698155\n"
     ]
    }
   ],
   "source": [
    "from sklearn.model_selection import cross_val_score, KFold\n",
    "\n",
    "lin_reg = LinearRegression()\n",
    "\n",
    "kfold = KFold(n_splits=5, shuffle=True, random_state=42)\n",
    "\n",
    "cv_score = cross_val_score(lin_reg, scaled_X_train, y_train, cv=kfold, scoring=\"neg_root_mean_squared_error\")\n",
    "\n",
    "rmse_per_fold = -cv_score\n",
    "avg_rmse = rmse_per_fold.mean()\n",
    "\n",
    "lin_best_rmse = rmse_per_fold.min()     \n",
    "lin_best_fold = rmse_per_fold.argmin()\n",
    "print(\"RMSE per fold:\", rmse_per_fold)\n",
    "print(\"Average CV RMSE:\", avg_rmse)"
   ]
  },
  {
   "cell_type": "code",
   "execution_count": 133,
   "id": "f09807ec-91c5-4f97-a6cf-fa2c11346650",
   "metadata": {},
   "outputs": [],
   "source": [
    "lin_reg.fit(scaled_X_train, y_train)\n",
    "y_pred_lin = lin_reg.predict(scaled_X_test)\n",
    "\n",
    "lin_mae, lin_mse, lin_rmse = reg_report(y_test, y_pred_lin)"
   ]
  },
  {
   "cell_type": "markdown",
   "id": "3df715e0-e9be-4354-92a3-7922baf98a2d",
   "metadata": {},
   "source": [
    "***part 2 - RidgeCV Regression:***"
   ]
  },
  {
   "cell_type": "code",
   "execution_count": 134,
   "id": "0f744fce-c3b4-440c-a61d-937cc8ffd2fc",
   "metadata": {},
   "outputs": [],
   "source": [
    "ridge = RidgeCV(alphas=np.logspace(-4, 4, 50), scoring=\"neg_mean_squared_error\")\n",
    "ridge.fit(scaled_X_train, y_train)\n",
    "y_pred_ridge = ridge.predict(scaled_X_test)\n",
    "ridge_mae, ridge_mse, ridge_rmse = reg_report(y_test, y_pred_ridge)\n",
    "\n",
    "ridge_best_alpha = ridge.alpha_\n",
    "ridge_best_score = ridge.best_score_"
   ]
  },
  {
   "cell_type": "markdown",
   "id": "a42c7c29-f0fb-425f-b5fc-79d59079f640",
   "metadata": {},
   "source": [
    "***part 3 - LassoCV Regression:***"
   ]
  },
  {
   "cell_type": "code",
   "execution_count": 135,
   "id": "c34d598b-dcd1-4b89-b659-b85a138c13d5",
   "metadata": {},
   "outputs": [],
   "source": [
    "lasso = LassoCV(eps=0.1, max_iter=10000, random_state=42)\n",
    "lasso.fit(scaled_X_train, y_train)\n",
    "y_pred_lasso = lasso.predict(scaled_X_test)\n",
    "\n",
    "lasso_mae, lasso_mse, lasso_rmse = reg_report(y_test, y_pred_lasso)\n",
    "lasso_best_alpha = lasso.alpha_"
   ]
  },
  {
   "cell_type": "markdown",
   "id": "3b3680ca-d241-49b0-9a1f-f6848c04587c",
   "metadata": {},
   "source": [
    "***part 4 - Polynomial Regression:***"
   ]
  },
  {
   "cell_type": "code",
   "execution_count": 136,
   "id": "24fcdc1e-421d-4e20-a4e1-955fa76728cb",
   "metadata": {},
   "outputs": [],
   "source": [
    "train_rmse_errors = []\n",
    "test_rmse_errors = []\n",
    "\n",
    "for degree in range(1,9):\n",
    "    polynomial_converter = PolynomialFeatures(degree=degree, include_bias=False)\n",
    "    X_train_poly = polynomial_converter.fit_transform(scaled_X_train)\n",
    "    X_test_poly  = polynomial_converter.transform(scaled_X_test)\n",
    "\n",
    "    model = LinearRegression()\n",
    "    model.fit(X_train_poly, y_train)\n",
    "\n",
    "    train_predictions = model.predict(X_train_poly)\n",
    "    test_predictions = model.predict(X_test_poly)\n",
    "\n",
    "    train_rmse = np.sqrt(mean_squared_error(y_train, train_predictions))\n",
    "    test_rmse = np.sqrt(mean_squared_error(y_test, test_predictions))\n",
    "\n",
    "    train_rmse_errors.append(train_rmse)\n",
    "    test_rmse_errors.append(test_rmse)"
   ]
  },
  {
   "cell_type": "code",
   "execution_count": 137,
   "id": "427003bb-13fd-46aa-820a-e4079348593c",
   "metadata": {},
   "outputs": [
    {
     "data": {
      "text/plain": [
       "[np.float64(1669.4580728699366),\n",
       " np.float64(1635.4129219467184),\n",
       " np.float64(1420.615544814898),\n",
       " np.float64(0.012862124650255831),\n",
       " np.float64(0.0070525503666373154),\n",
       " np.float64(0.006714332495867747),\n",
       " np.float64(0.24289355897799436),\n",
       " np.float64(96.96101302533495)]"
      ]
     },
     "execution_count": 137,
     "metadata": {},
     "output_type": "execute_result"
    }
   ],
   "source": [
    "train_rmse_errors"
   ]
  },
  {
   "cell_type": "code",
   "execution_count": 138,
   "id": "803d1751-816a-47e5-923d-674a39436db7",
   "metadata": {},
   "outputs": [
    {
     "data": {
      "text/plain": [
       "[np.float64(649.8776178144733),\n",
       " np.float64(22105.87856740173),\n",
       " np.float64(8078426.666469959),\n",
       " np.float64(19634224463.21728),\n",
       " np.float64(1057258293747.4045),\n",
       " np.float64(3772063740664.6313),\n",
       " np.float64(14433745275639.055),\n",
       " np.float64(312367787910547.75)]"
      ]
     },
     "execution_count": 138,
     "metadata": {},
     "output_type": "execute_result"
    }
   ],
   "source": [
    "test_rmse_errors"
   ]
  },
  {
   "cell_type": "code",
   "execution_count": 139,
   "id": "87679ae9-31ac-4410-a85f-0d4cce6c7aff",
   "metadata": {},
   "outputs": [
    {
     "data": {
      "image/png": "[encoded data removed]",
      "text/plain": [
       "<Figure size 640x480 with 1 Axes>"
      ]
     },
     "metadata": {},
     "output_type": "display_data"
    }
   ],
   "source": [
    "plt.plot(range(1,9), train_rmse_errors, label= 'TRAIN RMSE')\n",
    "plt.plot(range(1,9), test_rmse_errors, label= 'TEST RMSE')\n",
    "\n",
    "plt.ylabel('RMSE')\n",
    "plt.xlabel('Degree of poly')\n",
    "plt.legend()\n",
    "plt.show()"
   ]
  },
  {
   "cell_type": "markdown",
   "id": "4d75ccd2-08ad-4888-b5b0-4c9418cfdc76",
   "metadata": {},
   "source": [
    "**conclusion:** Based on the RMSE results, we observe that increasing the polynomial degree beyond 1 leads to a higher test RMSE. This indicates that model performance worsens with higher degrees (signs of overfitting). Therefore, we can conclude that the optimal polynomial degree is 1."
   ]
  },
  {
   "cell_type": "code",
   "execution_count": 140,
   "id": "88575290-072f-4580-9286-02232d8c8e34",
   "metadata": {},
   "outputs": [],
   "source": [
    "# performe the tPolynomial Regression with optimal polynomial degree\n",
    "best_poly = PolynomialFeatures(degree=1, include_bias=False)\n",
    "\n",
    "X_train_p = best_poly.fit_transform(scaled_X_train)\n",
    "X_test_p  = best_poly.transform(scaled_X_test)\n",
    "\n",
    "poly_model = LinearRegression()\n",
    "poly_model.fit(X_train_p, y_train)\n",
    "y_pred_poly = poly_model.predict(X_test_p)\n",
    "\n",
    "poly_mae, poly_mse, poly_rmse = reg_report(y_test, y_pred_poly)"
   ]
  },
  {
   "cell_type": "markdown",
   "id": "ab35d740-3563-4a79-aa0c-2884495a47b6",
   "metadata": {},
   "source": [
    "## Multi model evaluation and deployment:"
   ]
  },
  {
   "cell_type": "markdown",
   "id": "a6b23c4c-a32c-4544-95f6-bcbffe3f582d",
   "metadata": {},
   "source": [
    "***part 1 - Print the optimal parameters values of each model:***"
   ]
  },
  {
   "cell_type": "code",
   "execution_count": 141,
   "id": "99b9881f-9b77-4320-8789-8fbe6f76b284",
   "metadata": {},
   "outputs": [
    {
     "name": "stdout",
     "output_type": "stream",
     "text": [
      "Best RMSE: 340.7692  (fold 3)\n"
     ]
    }
   ],
   "source": [
    "# linear regression best parameters:\n",
    "\n",
    "print(f\"Best RMSE: {lin_best_rmse:.4f}  (fold {lin_best_fold})\")"
   ]
  },
  {
   "cell_type": "code",
   "execution_count": 142,
   "id": "f22cedcd-4622-42ee-8b37-232e23cd9c00",
   "metadata": {},
   "outputs": [
    {
     "name": "stdout",
     "output_type": "stream",
     "text": [
      "RidgeCV best alpha: 159.98587196060572\n",
      "RidgeCV best score: -2923300.534162111\n"
     ]
    }
   ],
   "source": [
    "# RidgeCV Regression best parameters:\n",
    "\n",
    "print(\"RidgeCV best alpha:\", ridge_best_alpha)\n",
    "print(\"RidgeCV best score:\", ridge_best_score)"
   ]
  },
  {
   "cell_type": "code",
   "execution_count": 143,
   "id": "0f381a44-b531-40db-a619-a426007a17fe",
   "metadata": {},
   "outputs": [
    {
     "name": "stdout",
     "output_type": "stream",
     "text": [
      "LassoCV best alpha: 71.67291317028841\n"
     ]
    }
   ],
   "source": [
    "# LassoCV Regression best parameters:\n",
    "\n",
    "print(\"LassoCV best alpha:\",lasso_best_alpha)"
   ]
  },
  {
   "cell_type": "code",
   "execution_count": 144,
   "id": "3e4411f1-5ed9-4bdf-8893-b2b9f1e415c7",
   "metadata": {},
   "outputs": [
    {
     "name": "stdout",
     "output_type": "stream",
     "text": [
      "Polynomial Regression best degree = 1\n"
     ]
    }
   ],
   "source": [
    "# Polynomial Regression Regression best parameters:\n",
    "\n",
    "print(\"Polynomial Regression best degree = 1\")"
   ]
  },
  {
   "cell_type": "markdown",
   "id": "a4c77df4-0489-40af-802d-0910f3336db7",
   "metadata": {},
   "source": [
    "***part 2 - Print the beta coefficient the model found for each feature:***"
   ]
  },
  {
   "cell_type": "code",
   "execution_count": 145,
   "id": "39f0ab57-4406-4f73-ad04-9964c9931b9a",
   "metadata": {},
   "outputs": [
    {
     "name": "stdout",
     "output_type": "stream",
     "text": [
      "model betas:\n",
      "Confirmed: 729.687993\n",
      "Deaths: -40.491444\n",
      "Recovered: -372.858410\n",
      "Unemployment: -149.613059\n",
      "CPI: -28.997966\n"
     ]
    }
   ],
   "source": [
    "# linear regression betas:\n",
    "\n",
    "print_betas(lin_reg)"
   ]
  },
  {
   "cell_type": "code",
   "execution_count": 146,
   "id": "d5645f90-c9ec-4626-9e97-85d1fa0155c5",
   "metadata": {},
   "outputs": [
    {
     "name": "stdout",
     "output_type": "stream",
     "text": [
      "model betas:\n",
      "Confirmed: 106.537552\n",
      "Deaths: 64.176381\n",
      "Recovered: 43.280248\n",
      "Unemployment: -61.875227\n",
      "CPI: -17.585978\n"
     ]
    }
   ],
   "source": [
    "# RidgeCV Regression betas:\n",
    "ridge_betas = print_betas(ridge)"
   ]
  },
  {
   "cell_type": "code",
   "execution_count": 147,
   "id": "5aaf26f4-ee91-44e0-b698-01c32385634b",
   "metadata": {},
   "outputs": [
    {
     "name": "stdout",
     "output_type": "stream",
     "text": [
      "model betas:\n",
      "Confirmed: 278.828102\n",
      "Deaths: 0.000000\n",
      "Recovered: 0.000000\n",
      "Unemployment: -77.186088\n",
      "CPI: -0.000000\n"
     ]
    }
   ],
   "source": [
    "# LassoCV Regression betas:\n",
    "lasso_betas = print_betas(lasso)"
   ]
  },
  {
   "cell_type": "code",
   "execution_count": 148,
   "id": "86ea1e57-9d9a-46c8-8441-7596ac2ea873",
   "metadata": {},
   "outputs": [
    {
     "name": "stdout",
     "output_type": "stream",
     "text": [
      "model betas:\n",
      "Confirmed: 729.687993\n",
      "Deaths: -40.491444\n",
      "Recovered: -372.858410\n",
      "Unemployment: -149.613059\n",
      "CPI: -28.997966\n"
     ]
    }
   ],
   "source": [
    "# Polynomial Regression Regression betas:\n",
    "\n",
    "print_betas(poly_model)"
   ]
  },
  {
   "cell_type": "markdown",
   "id": "cdfaf9d4-7032-4c98-a5d6-3b9a71cce3f6",
   "metadata": {},
   "source": [
    "***part 3 - Evaluate each optimal model using MAE, MSE and RMSE:***"
   ]
  },
  {
   "cell_type": "code",
   "execution_count": 149,
   "id": "ab68affa-8c1c-4bab-ae6d-df74707b0a9d",
   "metadata": {},
   "outputs": [
    {
     "name": "stdout",
     "output_type": "stream",
     "text": [
      "    Model         MAE            MSE        RMSE\n",
      "0  Linear  362.179064  422340.918136  649.877618\n",
      "1   Ridge  423.220146  522573.116323  722.892189\n",
      "2   Lasso  395.674986  472225.304215  687.186513\n",
      "3    poly  362.179064  422340.918136  649.877618\n"
     ]
    }
   ],
   "source": [
    "error_results = pd.DataFrame({\n",
    "    \"Model\": [\"Linear\", \"Ridge\", \"Lasso\", \"poly\"],\n",
    "    \"MAE\":   [lin_mae, ridge_mae, lasso_mae, poly_mae],\n",
    "    \"MSE\":   [lin_mse, ridge_mse, lasso_mse, poly_mse],\n",
    "    \"RMSE\":  [lin_rmse, ridge_rmse, lasso_rmse, poly_rmse],\n",
    "})\n",
    "\n",
    "print(error_results)"
   ]
  },
  {
   "cell_type": "markdown",
   "id": "16bbeba5-2c63-4f92-a61b-a4cf3b0c91d0",
   "metadata": {},
   "source": [
    "***part 4 - Generate a single plot that shows all models accuracy values:***"
   ]
  },
  {
   "cell_type": "code",
   "execution_count": 150,
   "id": "742a4bd7-046f-42b6-bd41-12be5f112f45",
   "metadata": {},
   "outputs": [
    {
     "data": {
      "image/png": "[encoded data removed]",
      "text/plain": [
       "<Figure size 640x480 with 1 Axes>"
      ]
     },
     "metadata": {},
     "output_type": "display_data"
    }
   ],
   "source": [
    "bar_plot = sns.barplot(\n",
    "    data=error_results.melt(id_vars=\"Model\", var_name=\"Metric\", value_name=\"Value\"),\n",
    "    x=\"Model\", y=\"Value\", hue=\"Metric\", palette=\"Set2\"\n",
    ")\n",
    "bar_plot.set_yscale(\"log\")\n",
    "bar_plot.set_ylabel(\"Value (log scale)\")\n",
    "plt.tight_layout(); plt.show()\n"
   ]
  },
  {
   "cell_type": "code",
   "execution_count": 151,
   "id": "f6504cb0-a89d-4080-8559-3eb9ca9c35eb",
   "metadata": {},
   "outputs": [
    {
     "data": {
      "image/png": "[encoded data removed]",
      "text/plain": [
       "<Figure size 600x400 with 1 Axes>"
      ]
     },
     "metadata": {},
     "output_type": "display_data"
    }
   ],
   "source": [
    "plt.figure(figsize=(6,4))\n",
    "plt.bar(error_results[\"Model\"], error_results[\"RMSE\"])\n",
    "plt.ylabel(\"RMSE\")\n",
    "plt.title(\"Model Comparison (RMSE)\")\n",
    "plt.tight_layout()\n",
    "plt.show()"
   ]
  },
  {
   "cell_type": "markdown",
   "id": "9daa8004-a7c0-4ff5-9a59-ae65a19bb331",
   "metadata": {},
   "source": [
    "***part 5 - Choose the model that provided the most accurate prediction:***\n",
    "\n",
    "Linear Regression achieved the lowest errors (RMSE ≈ 649.9, MAE ≈ 362.2). Polynomial regression with degree 1 yielded identical performance, confirming that the optimal polynomial degree is 1. Therefore, the final selected model is Linear Regression."
   ]
  },
  {
   "cell_type": "markdown",
   "id": "86f38836-3b94-419e-a900-6668390e392e",
   "metadata": {},
   "source": [
    "***part 6 - Train the optimal model on the entire dataset:***"
   ]
  },
  {
   "cell_type": "code",
   "execution_count": 152,
   "id": "a5a9df74-874b-4bf6-b491-939e26d118d4",
   "metadata": {},
   "outputs": [
    {
     "data": {
      "text/html": [
       "<style>#sk-container-id-4 {\n",
       "  /* Definition of color scheme common for light and dark mode */\n",
       "  --sklearn-color-text: #000;\n",
       "  --sklearn-color-text-muted: #666;\n",
       "  --sklearn-color-line: gray;\n",
       "  /* Definition of color scheme for unfitted estimators */\n",
       "  --sklearn-color-unfitted-level-0: #fff5e6;\n",
       "  --sklearn-color-unfitted-level-1: #f6e4d2;\n",
       "  --sklearn-color-unfitted-level-2: #ffe0b3;\n",
       "  --sklearn-color-unfitted-level-3: chocolate;\n",
       "  /* Definition of color scheme for fitted estimators */\n",
       "  --sklearn-color-fitted-level-0: #f0f8ff;\n",
       "  --sklearn-color-fitted-level-1: #d4ebff;\n",
       "  --sklearn-color-fitted-level-2: #b3dbfd;\n",
       "  --sklearn-color-fitted-level-3: cornflowerblue;\n",
       "\n",
       "  /* Specific color for light theme */\n",
       "  --sklearn-color-text-on-default-background: var(--sg-text-color, var(--theme-code-foreground, var(--jp-content-font-color1, black)));\n",
       "  --sklearn-color-background: var(--sg-background-color, var(--theme-background, var(--jp-layout-color0, white)));\n",
       "  --sklearn-color-border-box: var(--sg-text-color, var(--theme-code-foreground, var(--jp-content-font-color1, black)));\n",
       "  --sklearn-color-icon: #696969;\n",
       "\n",
       "  @media (prefers-color-scheme: dark) {\n",
       "    /* Redefinition of color scheme for dark theme */\n",
       "    --sklearn-color-text-on-default-background: var(--sg-text-color, var(--theme-code-foreground, var(--jp-content-font-color1, white)));\n",
       "    --sklearn-color-background: var(--sg-background-color, var(--theme-background, var(--jp-layout-color0, #111)));\n",
       "    --sklearn-color-border-box: var(--sg-text-color, var(--theme-code-foreground, var(--jp-content-font-color1, white)));\n",
       "    --sklearn-color-icon: #878787;\n",
       "  }\n",
       "}\n",
       "\n",
       "#sk-container-id-4 {\n",
       "  color: var(--sklearn-color-text);\n",
       "}\n",
       "\n",
       "#sk-container-id-4 pre {\n",
       "  padding: 0;\n",
       "}\n",
       "\n",
       "#sk-container-id-4 input.sk-hidden--visually {\n",
       "  border: 0;\n",
       "  clip: rect(1px 1px 1px 1px);\n",
       "  clip: rect(1px, 1px, 1px, 1px);\n",
       "  height: 1px;\n",
       "  margin: -1px;\n",
       "  overflow: hidden;\n",
       "  padding: 0;\n",
       "  position: absolute;\n",
       "  width: 1px;\n",
       "}\n",
       "\n",
       "#sk-container-id-4 div.sk-dashed-wrapped {\n",
       "  border: 1px dashed var(--sklearn-color-line);\n",
       "  margin: 0 0.4em 0.5em 0.4em;\n",
       "  box-sizing: border-box;\n",
       "  padding-bottom: 0.4em;\n",
       "  background-color: var(--sklearn-color-background);\n",
       "}\n",
       "\n",
       "#sk-container-id-4 div.sk-container {\n",
       "  /* jupyter's `normalize.less` sets `[hidden] { display: none; }`\n",
       "     but bootstrap.min.css set `[hidden] { display: none !important; }`\n",
       "     so we also need the `!important` here to be able to override the\n",
       "     default hidden behavior on the sphinx rendered scikit-learn.org.\n",
       "     See: https://github.com/scikit-learn/scikit-learn/issues/21755 */\n",
       "  display: inline-block !important;\n",
       "  position: relative;\n",
       "}\n",
       "\n",
       "#sk-container-id-4 div.sk-text-repr-fallback {\n",
       "  display: none;\n",
       "}\n",
       "\n",
       "div.sk-parallel-item,\n",
       "div.sk-serial,\n",
       "div.sk-item {\n",
       "  /* draw centered vertical line to link estimators */\n",
       "  background-image: linear-gradient(var(--sklearn-color-text-on-default-background), var(--sklearn-color-text-on-default-background));\n",
       "  background-size: 2px 100%;\n",
       "  background-repeat: no-repeat;\n",
       "  background-position: center center;\n",
       "}\n",
       "\n",
       "/* Parallel-specific style estimator block */\n",
       "\n",
       "#sk-container-id-4 div.sk-parallel-item::after {\n",
       "  content: \"\";\n",
       "  width: 100%;\n",
       "  border-bottom: 2px solid var(--sklearn-color-text-on-default-background);\n",
       "  flex-grow: 1;\n",
       "}\n",
       "\n",
       "#sk-container-id-4 div.sk-parallel {\n",
       "  display: flex;\n",
       "  align-items: stretch;\n",
       "  justify-content: center;\n",
       "  background-color: var(--sklearn-color-background);\n",
       "  position: relative;\n",
       "}\n",
       "\n",
       "#sk-container-id-4 div.sk-parallel-item {\n",
       "  display: flex;\n",
       "  flex-direction: column;\n",
       "}\n",
       "\n",
       "#sk-container-id-4 div.sk-parallel-item:first-child::after {\n",
       "  align-self: flex-end;\n",
       "  width: 50%;\n",
       "}\n",
       "\n",
       "#sk-container-id-4 div.sk-parallel-item:last-child::after {\n",
       "  align-self: flex-start;\n",
       "  width: 50%;\n",
       "}\n",
       "\n",
       "#sk-container-id-4 div.sk-parallel-item:only-child::after {\n",
       "  width: 0;\n",
       "}\n",
       "\n",
       "/* Serial-specific style estimator block */\n",
       "\n",
       "#sk-container-id-4 div.sk-serial {\n",
       "  display: flex;\n",
       "  flex-direction: column;\n",
       "  align-items: center;\n",
       "  background-color: var(--sklearn-color-background);\n",
       "  padding-right: 1em;\n",
       "  padding-left: 1em;\n",
       "}\n",
       "\n",
       "\n",
       "/* Toggleable style: style used for estimator/Pipeline/ColumnTransformer box that is\n",
       "clickable and can be expanded/collapsed.\n",
       "- Pipeline and ColumnTransformer use this feature and define the default style\n",
       "- Estimators will overwrite some part of the style using the `sk-estimator` class\n",
       "*/\n",
       "\n",
       "/* Pipeline and ColumnTransformer style (default) */\n",
       "\n",
       "#sk-container-id-4 div.sk-toggleable {\n",
       "  /* Default theme specific background. It is overwritten whether we have a\n",
       "  specific estimator or a Pipeline/ColumnTransformer */\n",
       "  background-color: var(--sklearn-color-background);\n",
       "}\n",
       "\n",
       "/* Toggleable label */\n",
       "#sk-container-id-4 label.sk-toggleable__label {\n",
       "  cursor: pointer;\n",
       "  display: flex;\n",
       "  width: 100%;\n",
       "  margin-bottom: 0;\n",
       "  padding: 0.5em;\n",
       "  box-sizing: border-box;\n",
       "  text-align: center;\n",
       "  align-items: start;\n",
       "  justify-content: space-between;\n",
       "  gap: 0.5em;\n",
       "}\n",
       "\n",
       "#sk-container-id-4 label.sk-toggleable__label .caption {\n",
       "  font-size: 0.6rem;\n",
       "  font-weight: lighter;\n",
       "  color: var(--sklearn-color-text-muted);\n",
       "}\n",
       "\n",
       "#sk-container-id-4 label.sk-toggleable__label-arrow:before {\n",
       "  /* Arrow on the left of the label */\n",
       "  content: \"▸\";\n",
       "  float: left;\n",
       "  margin-right: 0.25em;\n",
       "  color: var(--sklearn-color-icon);\n",
       "}\n",
       "\n",
       "#sk-container-id-4 label.sk-toggleable__label-arrow:hover:before {\n",
       "  color: var(--sklearn-color-text);\n",
       "}\n",
       "\n",
       "/* Toggleable content - dropdown */\n",
       "\n",
       "#sk-container-id-4 div.sk-toggleable__content {\n",
       "  display: none;\n",
       "  text-align: left;\n",
       "  /* unfitted */\n",
       "  background-color: var(--sklearn-color-unfitted-level-0);\n",
       "}\n",
       "\n",
       "#sk-container-id-4 div.sk-toggleable__content.fitted {\n",
       "  /* fitted */\n",
       "  background-color: var(--sklearn-color-fitted-level-0);\n",
       "}\n",
       "\n",
       "#sk-container-id-4 div.sk-toggleable__content pre {\n",
       "  margin: 0.2em;\n",
       "  border-radius: 0.25em;\n",
       "  color: var(--sklearn-color-text);\n",
       "  /* unfitted */\n",
       "  background-color: var(--sklearn-color-unfitted-level-0);\n",
       "}\n",
       "\n",
       "#sk-container-id-4 div.sk-toggleable__content.fitted pre {\n",
       "  /* unfitted */\n",
       "  background-color: var(--sklearn-color-fitted-level-0);\n",
       "}\n",
       "\n",
       "#sk-container-id-4 input.sk-toggleable__control:checked~div.sk-toggleable__content {\n",
       "  /* Expand drop-down */\n",
       "  display: block;\n",
       "  width: 100%;\n",
       "  overflow: visible;\n",
       "}\n",
       "\n",
       "#sk-container-id-4 input.sk-toggleable__control:checked~label.sk-toggleable__label-arrow:before {\n",
       "  content: \"▾\";\n",
       "}\n",
       "\n",
       "/* Pipeline/ColumnTransformer-specific style */\n",
       "\n",
       "#sk-container-id-4 div.sk-label input.sk-toggleable__control:checked~label.sk-toggleable__label {\n",
       "  color: var(--sklearn-color-text);\n",
       "  background-color: var(--sklearn-color-unfitted-level-2);\n",
       "}\n",
       "\n",
       "#sk-container-id-4 div.sk-label.fitted input.sk-toggleable__control:checked~label.sk-toggleable__label {\n",
       "  background-color: var(--sklearn-color-fitted-level-2);\n",
       "}\n",
       "\n",
       "/* Estimator-specific style */\n",
       "\n",
       "/* Colorize estimator box */\n",
       "#sk-container-id-4 div.sk-estimator input.sk-toggleable__control:checked~label.sk-toggleable__label {\n",
       "  /* unfitted */\n",
       "  background-color: var(--sklearn-color-unfitted-level-2);\n",
       "}\n",
       "\n",
       "#sk-container-id-4 div.sk-estimator.fitted input.sk-toggleable__control:checked~label.sk-toggleable__label {\n",
       "  /* fitted */\n",
       "  background-color: var(--sklearn-color-fitted-level-2);\n",
       "}\n",
       "\n",
       "#sk-container-id-4 div.sk-label label.sk-toggleable__label,\n",
       "#sk-container-id-4 div.sk-label label {\n",
       "  /* The background is the default theme color */\n",
       "  color: var(--sklearn-color-text-on-default-background);\n",
       "}\n",
       "\n",
       "/* On hover, darken the color of the background */\n",
       "#sk-container-id-4 div.sk-label:hover label.sk-toggleable__label {\n",
       "  color: var(--sklearn-color-text);\n",
       "  background-color: var(--sklearn-color-unfitted-level-2);\n",
       "}\n",
       "\n",
       "/* Label box, darken color on hover, fitted */\n",
       "#sk-container-id-4 div.sk-label.fitted:hover label.sk-toggleable__label.fitted {\n",
       "  color: var(--sklearn-color-text);\n",
       "  background-color: var(--sklearn-color-fitted-level-2);\n",
       "}\n",
       "\n",
       "/* Estimator label */\n",
       "\n",
       "#sk-container-id-4 div.sk-label label {\n",
       "  font-family: monospace;\n",
       "  font-weight: bold;\n",
       "  display: inline-block;\n",
       "  line-height: 1.2em;\n",
       "}\n",
       "\n",
       "#sk-container-id-4 div.sk-label-container {\n",
       "  text-align: center;\n",
       "}\n",
       "\n",
       "/* Estimator-specific */\n",
       "#sk-container-id-4 div.sk-estimator {\n",
       "  font-family: monospace;\n",
       "  border: 1px dotted var(--sklearn-color-border-box);\n",
       "  border-radius: 0.25em;\n",
       "  box-sizing: border-box;\n",
       "  margin-bottom: 0.5em;\n",
       "  /* unfitted */\n",
       "  background-color: var(--sklearn-color-unfitted-level-0);\n",
       "}\n",
       "\n",
       "#sk-container-id-4 div.sk-estimator.fitted {\n",
       "  /* fitted */\n",
       "  background-color: var(--sklearn-color-fitted-level-0);\n",
       "}\n",
       "\n",
       "/* on hover */\n",
       "#sk-container-id-4 div.sk-estimator:hover {\n",
       "  /* unfitted */\n",
       "  background-color: var(--sklearn-color-unfitted-level-2);\n",
       "}\n",
       "\n",
       "#sk-container-id-4 div.sk-estimator.fitted:hover {\n",
       "  /* fitted */\n",
       "  background-color: var(--sklearn-color-fitted-level-2);\n",
       "}\n",
       "\n",
       "/* Specification for estimator info (e.g. \"i\" and \"?\") */\n",
       "\n",
       "/* Common style for \"i\" and \"?\" */\n",
       "\n",
       ".sk-estimator-doc-link,\n",
       "a:link.sk-estimator-doc-link,\n",
       "a:visited.sk-estimator-doc-link {\n",
       "  float: right;\n",
       "  font-size: smaller;\n",
       "  line-height: 1em;\n",
       "  font-family: monospace;\n",
       "  background-color: var(--sklearn-color-background);\n",
       "  border-radius: 1em;\n",
       "  height: 1em;\n",
       "  width: 1em;\n",
       "  text-decoration: none !important;\n",
       "  margin-left: 0.5em;\n",
       "  text-align: center;\n",
       "  /* unfitted */\n",
       "  border: var(--sklearn-color-unfitted-level-1) 1pt solid;\n",
       "  color: var(--sklearn-color-unfitted-level-1);\n",
       "}\n",
       "\n",
       ".sk-estimator-doc-link.fitted,\n",
       "a:link.sk-estimator-doc-link.fitted,\n",
       "a:visited.sk-estimator-doc-link.fitted {\n",
       "  /* fitted */\n",
       "  border: var(--sklearn-color-fitted-level-1) 1pt solid;\n",
       "  color: var(--sklearn-color-fitted-level-1);\n",
       "}\n",
       "\n",
       "/* On hover */\n",
       "div.sk-estimator:hover .sk-estimator-doc-link:hover,\n",
       ".sk-estimator-doc-link:hover,\n",
       "div.sk-label-container:hover .sk-estimator-doc-link:hover,\n",
       ".sk-estimator-doc-link:hover {\n",
       "  /* unfitted */\n",
       "  background-color: var(--sklearn-color-unfitted-level-3);\n",
       "  color: var(--sklearn-color-background);\n",
       "  text-decoration: none;\n",
       "}\n",
       "\n",
       "div.sk-estimator.fitted:hover .sk-estimator-doc-link.fitted:hover,\n",
       ".sk-estimator-doc-link.fitted:hover,\n",
       "div.sk-label-container:hover .sk-estimator-doc-link.fitted:hover,\n",
       ".sk-estimator-doc-link.fitted:hover {\n",
       "  /* fitted */\n",
       "  background-color: var(--sklearn-color-fitted-level-3);\n",
       "  color: var(--sklearn-color-background);\n",
       "  text-decoration: none;\n",
       "}\n",
       "\n",
       "/* Span, style for the box shown on hovering the info icon */\n",
       ".sk-estimator-doc-link span {\n",
       "  display: none;\n",
       "  z-index: 9999;\n",
       "  position: relative;\n",
       "  font-weight: normal;\n",
       "  right: .2ex;\n",
       "  padding: .5ex;\n",
       "  margin: .5ex;\n",
       "  width: min-content;\n",
       "  min-width: 20ex;\n",
       "  max-width: 50ex;\n",
       "  color: var(--sklearn-color-text);\n",
       "  box-shadow: 2pt 2pt 4pt #999;\n",
       "  /* unfitted */\n",
       "  background: var(--sklearn-color-unfitted-level-0);\n",
       "  border: .5pt solid var(--sklearn-color-unfitted-level-3);\n",
       "}\n",
       "\n",
       ".sk-estimator-doc-link.fitted span {\n",
       "  /* fitted */\n",
       "  background: var(--sklearn-color-fitted-level-0);\n",
       "  border: var(--sklearn-color-fitted-level-3);\n",
       "}\n",
       "\n",
       ".sk-estimator-doc-link:hover span {\n",
       "  display: block;\n",
       "}\n",
       "\n",
       "/* \"?\"-specific style due to the `<a>` HTML tag */\n",
       "\n",
       "#sk-container-id-4 a.estimator_doc_link {\n",
       "  float: right;\n",
       "  font-size: 1rem;\n",
       "  line-height: 1em;\n",
       "  font-family: monospace;\n",
       "  background-color: var(--sklearn-color-background);\n",
       "  border-radius: 1rem;\n",
       "  height: 1rem;\n",
       "  width: 1rem;\n",
       "  text-decoration: none;\n",
       "  /* unfitted */\n",
       "  color: var(--sklearn-color-unfitted-level-1);\n",
       "  border: var(--sklearn-color-unfitted-level-1) 1pt solid;\n",
       "}\n",
       "\n",
       "#sk-container-id-4 a.estimator_doc_link.fitted {\n",
       "  /* fitted */\n",
       "  border: var(--sklearn-color-fitted-level-1) 1pt solid;\n",
       "  color: var(--sklearn-color-fitted-level-1);\n",
       "}\n",
       "\n",
       "/* On hover */\n",
       "#sk-container-id-4 a.estimator_doc_link:hover {\n",
       "  /* unfitted */\n",
       "  background-color: var(--sklearn-color-unfitted-level-3);\n",
       "  color: var(--sklearn-color-background);\n",
       "  text-decoration: none;\n",
       "}\n",
       "\n",
       "#sk-container-id-4 a.estimator_doc_link.fitted:hover {\n",
       "  /* fitted */\n",
       "  background-color: var(--sklearn-color-fitted-level-3);\n",
       "}\n",
       "\n",
       ".estimator-table summary {\n",
       "    padding: .5rem;\n",
       "    font-family: monospace;\n",
       "    cursor: pointer;\n",
       "}\n",
       "\n",
       ".estimator-table details[open] {\n",
       "    padding-left: 0.1rem;\n",
       "    padding-right: 0.1rem;\n",
       "    padding-bottom: 0.3rem;\n",
       "}\n",
       "\n",
       ".estimator-table .parameters-table {\n",
       "    margin-left: auto !important;\n",
       "    margin-right: auto !important;\n",
       "}\n",
       "\n",
       ".estimator-table .parameters-table tr:nth-child(odd) {\n",
       "    background-color: #fff;\n",
       "}\n",
       "\n",
       ".estimator-table .parameters-table tr:nth-child(even) {\n",
       "    background-color: #f6f6f6;\n",
       "}\n",
       "\n",
       ".estimator-table .parameters-table tr:hover {\n",
       "    background-color: #e0e0e0;\n",
       "}\n",
       "\n",
       ".estimator-table table td {\n",
       "    border: 1px solid rgba(106, 105, 104, 0.232);\n",
       "}\n",
       "\n",
       ".user-set td {\n",
       "    color:rgb(255, 94, 0);\n",
       "    text-align: left;\n",
       "}\n",
       "\n",
       ".user-set td.value pre {\n",
       "    color:rgb(255, 94, 0) !important;\n",
       "    background-color: transparent !important;\n",
       "}\n",
       "\n",
       ".default td {\n",
       "    color: black;\n",
       "    text-align: left;\n",
       "}\n",
       "\n",
       ".user-set td i,\n",
       ".default td i {\n",
       "    color: black;\n",
       "}\n",
       "\n",
       ".copy-paste-icon {\n",
       "    background-image: url(data:image/svg+xml;base64,PHN2ZyB4bWxucz0iaHR0cDovL3d3dy53My5vcmcvMjAwMC9zdmciIHZpZXdCb3g9IjAgMCA0NDggNTEyIj48IS0tIUZvbnQgQXdlc29tZSBGcmVlIDYuNy4yIGJ5IEBmb250YXdlc29tZSAtIGh0dHBzOi8vZm9udGF3ZXNvbWUuY29tIExpY2Vuc2UgLSBodHRwczovL2ZvbnRhd2Vzb21lLmNvbS9saWNlbnNlL2ZyZWUgQ29weXJpZ2h0IDIwMjUgRm9udGljb25zLCBJbmMuLS0+PHBhdGggZD0iTTIwOCAwTDMzMi4xIDBjMTIuNyAwIDI0LjkgNS4xIDMzLjkgMTQuMWw2Ny45IDY3LjljOSA5IDE0LjEgMjEuMiAxNC4xIDMzLjlMNDQ4IDMzNmMwIDI2LjUtMjEuNSA0OC00OCA0OGwtMTkyIDBjLTI2LjUgMC00OC0yMS41LTQ4LTQ4bDAtMjg4YzAtMjYuNSAyMS41LTQ4IDQ4LTQ4ek00OCAxMjhsODAgMCAwIDY0LTY0IDAgMCAyNTYgMTkyIDAgMC0zMiA2NCAwIDAgNDhjMCAyNi41LTIxLjUgNDgtNDggNDhMNDggNTEyYy0yNi41IDAtNDgtMjEuNS00OC00OEwwIDE3NmMwLTI2LjUgMjEuNS00OCA0OC00OHoiLz48L3N2Zz4=);\n",
       "    background-repeat: no-repeat;\n",
       "    background-size: 14px 14px;\n",
       "    background-position: 0;\n",
       "    display: inline-block;\n",
       "    width: 14px;\n",
       "    height: 14px;\n",
       "    cursor: pointer;\n",
       "}\n",
       "</style><body><div id=\"sk-container-id-4\" class=\"sk-top-container\"><div class=\"sk-text-repr-fallback\"><pre>LinearRegression()</pre><b>In a Jupyter environment, please rerun this cell to show the HTML representation or trust the notebook. <br />On GitHub, the HTML representation is unable to render, please try loading this page with nbviewer.org.</b></div><div class=\"sk-container\" hidden><div class=\"sk-item\"><div class=\"sk-estimator fitted sk-toggleable\"><input class=\"sk-toggleable__control sk-hidden--visually\" id=\"sk-estimator-id-4\" type=\"checkbox\" checked><label for=\"sk-estimator-id-4\" class=\"sk-toggleable__label fitted sk-toggleable__label-arrow\"><div><div>LinearRegression</div></div><div><a class=\"sk-estimator-doc-link fitted\" rel=\"noreferrer\" target=\"_blank\" href=\"https://scikit-learn.org/1.7/modules/generated/sklearn.linear_model.LinearRegression.html\">?<span>Documentation for LinearRegression</span></a><span class=\"sk-estimator-doc-link fitted\">i<span>Fitted</span></span></div></label><div class=\"sk-toggleable__content fitted\" data-param-prefix=\"\">\n",
       "        <div class=\"estimator-table\">\n",
       "            <details>\n",
       "                <summary>Parameters</summary>\n",
       "                <table class=\"parameters-table\">\n",
       "                  <tbody>\n",
       "                    \n",
       "        <tr class=\"default\">\n",
       "            <td><i class=\"copy-paste-icon\"\n",
       "                 onclick=\"copyToClipboard('fit_intercept',\n",
       "                          this.parentElement.nextElementSibling)\"\n",
       "            ></i></td>\n",
       "            <td class=\"param\">fit_intercept&nbsp;</td>\n",
       "            <td class=\"value\">True</td>\n",
       "        </tr>\n",
       "    \n",
       "\n",
       "        <tr class=\"default\">\n",
       "            <td><i class=\"copy-paste-icon\"\n",
       "                 onclick=\"copyToClipboard('copy_X',\n",
       "                          this.parentElement.nextElementSibling)\"\n",
       "            ></i></td>\n",
       "            <td class=\"param\">copy_X&nbsp;</td>\n",
       "            <td class=\"value\">True</td>\n",
       "        </tr>\n",
       "    \n",
       "\n",
       "        <tr class=\"default\">\n",
       "            <td><i class=\"copy-paste-icon\"\n",
       "                 onclick=\"copyToClipboard('tol',\n",
       "                          this.parentElement.nextElementSibling)\"\n",
       "            ></i></td>\n",
       "            <td class=\"param\">tol&nbsp;</td>\n",
       "            <td class=\"value\">1e-06</td>\n",
       "        </tr>\n",
       "    \n",
       "\n",
       "        <tr class=\"default\">\n",
       "            <td><i class=\"copy-paste-icon\"\n",
       "                 onclick=\"copyToClipboard('n_jobs',\n",
       "                          this.parentElement.nextElementSibling)\"\n",
       "            ></i></td>\n",
       "            <td class=\"param\">n_jobs&nbsp;</td>\n",
       "            <td class=\"value\">None</td>\n",
       "        </tr>\n",
       "    \n",
       "\n",
       "        <tr class=\"default\">\n",
       "            <td><i class=\"copy-paste-icon\"\n",
       "                 onclick=\"copyToClipboard('positive',\n",
       "                          this.parentElement.nextElementSibling)\"\n",
       "            ></i></td>\n",
       "            <td class=\"param\">positive&nbsp;</td>\n",
       "            <td class=\"value\">False</td>\n",
       "        </tr>\n",
       "    \n",
       "                  </tbody>\n",
       "                </table>\n",
       "            </details>\n",
       "        </div>\n",
       "    </div></div></div></div></div><script>function copyToClipboard(text, element) {\n",
       "    // Get the parameter prefix from the closest toggleable content\n",
       "    const toggleableContent = element.closest('.sk-toggleable__content');\n",
       "    const paramPrefix = toggleableContent ? toggleableContent.dataset.paramPrefix : '';\n",
       "    const fullParamName = paramPrefix ? `${paramPrefix}${text}` : text;\n",
       "\n",
       "    const originalStyle = element.style;\n",
       "    const computedStyle = window.getComputedStyle(element);\n",
       "    const originalWidth = computedStyle.width;\n",
       "    const originalHTML = element.innerHTML.replace('Copied!', '');\n",
       "\n",
       "    navigator.clipboard.writeText(fullParamName)\n",
       "        .then(() => {\n",
       "            element.style.width = originalWidth;\n",
       "            element.style.color = 'green';\n",
       "            element.innerHTML = \"Copied!\";\n",
       "\n",
       "            setTimeout(() => {\n",
       "                element.innerHTML = originalHTML;\n",
       "                element.style = originalStyle;\n",
       "            }, 2000);\n",
       "        })\n",
       "        .catch(err => {\n",
       "            console.error('Failed to copy:', err);\n",
       "            element.style.color = 'red';\n",
       "            element.innerHTML = \"Failed!\";\n",
       "            setTimeout(() => {\n",
       "                element.innerHTML = originalHTML;\n",
       "                element.style = originalStyle;\n",
       "            }, 2000);\n",
       "        });\n",
       "    return false;\n",
       "}\n",
       "\n",
       "document.querySelectorAll('.fa-regular.fa-copy').forEach(function(element) {\n",
       "    const toggleableContent = element.closest('.sk-toggleable__content');\n",
       "    const paramPrefix = toggleableContent ? toggleableContent.dataset.paramPrefix : '';\n",
       "    const paramName = element.parentElement.nextElementSibling.textContent.trim();\n",
       "    const fullParamName = paramPrefix ? `${paramPrefix}${paramName}` : paramName;\n",
       "\n",
       "    element.setAttribute('title', fullParamName);\n",
       "});\n",
       "</script></body>"
      ],
      "text/plain": [
       "LinearRegression()"
      ]
     },
     "execution_count": 152,
     "metadata": {},
     "output_type": "execute_result"
    }
   ],
   "source": [
    "scaler_full = StandardScaler()\n",
    "X_full_s = scaler_full.fit_transform(X)\n",
    "\n",
    "final_model_linear = LinearRegression()\n",
    "final_model_linear.fit(X_full_s, y)"
   ]
  },
  {
   "cell_type": "markdown",
   "id": "ff5804ba-33b1-4405-bc5e-af5e868cb711",
   "metadata": {},
   "source": [
    "***part 7 - Export your final model into a joblib file:***"
   ]
  },
  {
   "cell_type": "code",
   "execution_count": 153,
   "id": "0bd0a25a-ef9d-412a-850e-c38826e02545",
   "metadata": {},
   "outputs": [
    {
     "name": "stdout",
     "output_type": "stream",
     "text": [
      "saved: final_model_linear.joblib, scaler_full.joblib\n"
     ]
    }
   ],
   "source": [
    "from joblib import dump, load\n",
    "\n",
    "dump(final_model_linear, \"final_model_linear.joblib\")\n",
    "dump(scaler_full, \"scaler_full.joblib\")\n",
    "\n",
    "print(\"saved: final_model_linear.joblib, scaler_full.joblib\")"
   ]
  },
  {
   "cell_type": "markdown",
   "id": "f23dcb4e-a506-4df6-baa2-83449bb6b41f",
   "metadata": {},
   "source": [
    "***part 8 - Import your final model and the preprocessing instances:***"
   ]
  },
  {
   "cell_type": "code",
   "execution_count": 154,
   "id": "1d5b1d4c-e35d-4dc0-aa8e-27877b48e59b",
   "metadata": {},
   "outputs": [
    {
     "name": "stdout",
     "output_type": "stream",
     "text": [
      "loaded: final_model_linear.joblib, scaler_full.joblib\n"
     ]
    }
   ],
   "source": [
    "loaded_scaler = load(\"final_model_linear.joblib\")\n",
    "loaded_model = load(\"scaler_full.joblib\")\n",
    "\n",
    "print(\"loaded: final_model_linear.joblib, scaler_full.joblib\")"
   ]
  },
  {
   "cell_type": "code",
   "execution_count": null,
   "id": "3aafc4d2-2995-41eb-b4b7-03cf5400dbf7",
   "metadata": {},
   "outputs": [],
   "source": []
  }
 ],
 "metadata": {
  "kernelspec": {
   "display_name": "Python [conda env:base] *",
   "language": "python",
   "name": "conda-base-py"
  },
  "language_info": {
   "codemirror_mode": {
    "name": "ipython",
    "version": 3
   },
   "file_extension": ".py",
   "mimetype": "text/x-python",
   "name": "python",
   "nbconvert_exporter": "python",
   "pygments_lexer": "ipython3",
   "version": "3.13.5"
  }
 },
 "nbformat": 4,
 "nbformat_minor": 5
}
